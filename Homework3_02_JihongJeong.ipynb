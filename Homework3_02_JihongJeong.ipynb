{
  "nbformat": 4,
  "nbformat_minor": 0,
  "metadata": {
    "kernelspec": {
      "display_name": "Python 3",
      "language": "python",
      "name": "python3"
    },
    "language_info": {
      "codemirror_mode": {
        "name": "ipython",
        "version": 3
      },
      "file_extension": ".py",
      "mimetype": "text/x-python",
      "name": "python",
      "nbconvert_exporter": "python",
      "pygments_lexer": "ipython3",
      "version": "3.8.5"
    },
    "colab": {
      "name": "Homework3-02_JihongJeong.ipynb",
      "provenance": [],
      "collapsed_sections": []
    }
  },
  "cells": [
    {
      "cell_type": "markdown",
      "metadata": {
        "dc": {
          "key": "1d0b086e6c"
        },
        "deletable": false,
        "editable": false,
        "run_control": {
          "frozen": true
        },
        "tags": [
          "context"
        ],
        "id": "QqKDCOkTOWkD",
        "colab_type": "text"
      },
      "source": [
        "## 1. Introduction\n",
        "<p>Everyone loves Lego (unless you ever stepped on one). Did you know by the way that \"Lego\" was derived from the Danish phrase leg godt, which means \"play well\"? Unless you speak Danish, probably not. </p>\n",
        "<p>In this project, we will analyze a fascinating dataset on every single lego block that has ever been built!</p>\n",
        "<p><img src=\"https://s3.amazonaws.com/assets.datacamp.com/production/project_10/datasets/lego-bricks.jpeg\" alt=\"lego\"></p>"
      ]
    },
    {
      "cell_type": "code",
      "metadata": {
        "dc": {
          "key": "1d0b086e6c"
        },
        "tags": [
          "sample_code"
        ],
        "id": "x66vgKEEOWkF",
        "colab_type": "code",
        "colab": {}
      },
      "source": [
        "# Nothing to do here"
      ],
      "execution_count": null,
      "outputs": []
    },
    {
      "cell_type": "markdown",
      "metadata": {
        "dc": {
          "key": "044b2cef41"
        },
        "deletable": false,
        "editable": false,
        "run_control": {
          "frozen": true
        },
        "tags": [
          "context"
        ],
        "id": "2ErFZsuoOWkK",
        "colab_type": "text"
      },
      "source": [
        "## 2. Reading Data\n",
        "<p>A comprehensive database of lego blocks is provided by <a href=\"https://rebrickable.com/downloads/\">Rebrickable</a>. The data is available as csv files and the schema is shown below.</p>\n",
        "<p><img src=\"https://s3.amazonaws.com/assets.datacamp.com/production/project_10/datasets/downloads_schema.png\" alt=\"schema\"></p>\n",
        "<p>Let us start by reading in the colors data to get a sense of the diversity of lego sets!</p>"
      ]
    },
    {
      "cell_type": "code",
      "metadata": {
        "id": "3W0GicMYOdZr",
        "colab_type": "code",
        "colab": {
          "base_uri": "https://localhost:8080/",
          "height": 35
        },
        "outputId": "79482713-c4d1-4ad1-b47e-5b2fd7c09d5e"
      },
      "source": [
        "from google.colab import drive \n",
        "drive.mount('/content/gdrive/')"
      ],
      "execution_count": 1,
      "outputs": [
        {
          "output_type": "stream",
          "text": [
            "Mounted at /content/gdrive/\n"
          ],
          "name": "stdout"
        }
      ]
    },
    {
      "cell_type": "code",
      "metadata": {
        "dc": {
          "key": "044b2cef41"
        },
        "tags": [
          "sample_code"
        ],
        "id": "ruaBWuWUOWkL",
        "colab_type": "code",
        "colab": {
          "base_uri": "https://localhost:8080/",
          "height": 204
        },
        "outputId": "7994e656-b979-47be-b33e-4b29224b4f68"
      },
      "source": [
        "# Import modules\n",
        "import pandas as pd\n",
        "\n",
        "# Read colors data\n",
        "colors = pd.read_csv('/content/gdrive/My Drive/colors.csv')\n",
        "colors=colors[1:]\n",
        "\n",
        "# Print the first few rows\n",
        "colors.head()"
      ],
      "execution_count": 6,
      "outputs": [
        {
          "output_type": "execute_result",
          "data": {
            "text/html": [
              "<div>\n",
              "<style scoped>\n",
              "    .dataframe tbody tr th:only-of-type {\n",
              "        vertical-align: middle;\n",
              "    }\n",
              "\n",
              "    .dataframe tbody tr th {\n",
              "        vertical-align: top;\n",
              "    }\n",
              "\n",
              "    .dataframe thead th {\n",
              "        text-align: right;\n",
              "    }\n",
              "</style>\n",
              "<table border=\"1\" class=\"dataframe\">\n",
              "  <thead>\n",
              "    <tr style=\"text-align: right;\">\n",
              "      <th></th>\n",
              "      <th>id</th>\n",
              "      <th>name</th>\n",
              "      <th>rgb</th>\n",
              "      <th>is_trans</th>\n",
              "    </tr>\n",
              "  </thead>\n",
              "  <tbody>\n",
              "    <tr>\n",
              "      <th>1</th>\n",
              "      <td>0</td>\n",
              "      <td>Black</td>\n",
              "      <td>05131D</td>\n",
              "      <td>f</td>\n",
              "    </tr>\n",
              "    <tr>\n",
              "      <th>2</th>\n",
              "      <td>1</td>\n",
              "      <td>Blue</td>\n",
              "      <td>0055BF</td>\n",
              "      <td>f</td>\n",
              "    </tr>\n",
              "    <tr>\n",
              "      <th>3</th>\n",
              "      <td>2</td>\n",
              "      <td>Green</td>\n",
              "      <td>237841</td>\n",
              "      <td>f</td>\n",
              "    </tr>\n",
              "    <tr>\n",
              "      <th>4</th>\n",
              "      <td>3</td>\n",
              "      <td>Dark Turquoise</td>\n",
              "      <td>008F9B</td>\n",
              "      <td>f</td>\n",
              "    </tr>\n",
              "    <tr>\n",
              "      <th>5</th>\n",
              "      <td>4</td>\n",
              "      <td>Red</td>\n",
              "      <td>C91A09</td>\n",
              "      <td>f</td>\n",
              "    </tr>\n",
              "  </tbody>\n",
              "</table>\n",
              "</div>"
            ],
            "text/plain": [
              "   id            name     rgb is_trans\n",
              "1   0           Black  05131D        f\n",
              "2   1            Blue  0055BF        f\n",
              "3   2           Green  237841        f\n",
              "4   3  Dark Turquoise  008F9B        f\n",
              "5   4             Red  C91A09        f"
            ]
          },
          "metadata": {
            "tags": []
          },
          "execution_count": 6
        }
      ]
    },
    {
      "cell_type": "markdown",
      "metadata": {
        "dc": {
          "key": "15c1e2ce38"
        },
        "deletable": false,
        "editable": false,
        "run_control": {
          "frozen": true
        },
        "tags": [
          "context"
        ],
        "id": "ABbbJacTOWkO",
        "colab_type": "text"
      },
      "source": [
        "## 3. Exploring Colors\n",
        "<p>Now that we have read the <code>colors</code> data, we can start exploring it! Let us start by understanding the number of colors available.</p>"
      ]
    },
    {
      "cell_type": "markdown",
      "metadata": {
        "id": "gnqWGZ10OWkP",
        "colab_type": "text"
      },
      "source": [
        "---------------------------------------------------------------------------------\n",
        "- Create a variable named num_colors that counts the number of distinct colors and print it out.\n",
        "\n",
        "-------------------------------------------------"
      ]
    },
    {
      "cell_type": "code",
      "metadata": {
        "dc": {
          "key": "15c1e2ce38"
        },
        "tags": [
          "sample_code"
        ],
        "id": "BgZ4OWcDOWkR",
        "colab_type": "code",
        "colab": {
          "base_uri": "https://localhost:8080/",
          "height": 35
        },
        "outputId": "a1f2ee41-a4bf-4449-eae5-fcd82e9750eb"
      },
      "source": [
        "# How many distinct colors are available?\n",
        "num_colors = len(colors.groupby(['name']).sum())\n",
        "print(num_colors)"
      ],
      "execution_count": 8,
      "outputs": [
        {
          "output_type": "stream",
          "text": [
            "185\n"
          ],
          "name": "stdout"
        }
      ]
    },
    {
      "cell_type": "markdown",
      "metadata": {
        "dc": {
          "key": "a5723ae5c2"
        },
        "deletable": false,
        "editable": false,
        "run_control": {
          "frozen": true
        },
        "tags": [
          "context"
        ],
        "id": "yfrTGTRdOWkT",
        "colab_type": "text"
      },
      "source": [
        "## 4. Transparent Colors in Lego Sets\n",
        "<p>The <code>colors</code> data has a column named <code>is_trans</code> that indicates whether a color is transparent or not. It would be interesting to explore the distribution of transparent vs. non-transparent colors.</p>"
      ]
    },
    {
      "cell_type": "markdown",
      "metadata": {
        "id": "bD46wDGfOWkU",
        "colab_type": "text"
      },
      "source": [
        "----------------------------------------------------------------------\n",
        "\n",
        "- Summarize colors based on their transparency.\n",
        "\n",
        "- Save the result as a variable named colors_summary.\n",
        "\n",
        "- Print out colors_summary.\n",
        "\n",
        "-----------------------------------------------------------------------\n"
      ]
    },
    {
      "cell_type": "code",
      "metadata": {
        "dc": {
          "key": "a5723ae5c2"
        },
        "tags": [
          "sample_code"
        ],
        "id": "NSTZsofAOWkU",
        "colab_type": "code",
        "colab": {
          "base_uri": "https://localhost:8080/",
          "height": 881
        },
        "outputId": "187e1071-c067-4ea0-93c6-7444d5fb9797"
      },
      "source": [
        "# colors_summary: Distribution of colors based on transparency\n",
        "df = colors\n",
        "colors_summary_transparent = df['name'][df['is_trans'] != 'f']\n",
        "colors_summary_transparent = colors_summary_transparent.reset_index()['name']\n",
        "colors_summary_nontransparent = df['name'][df['is_trans'] == 'f']\n",
        "colors_summary_nontransparent = colors_summary_nontransparent.reset_index()['name']\n",
        "\n",
        "display(colors_summary_transparent)\n",
        "display(colors_summary_nontransparent)"
      ],
      "execution_count": 18,
      "outputs": [
        {
          "output_type": "display_data",
          "data": {
            "text/plain": [
              "0                  Trans-Black IR Lens\n",
              "1                      Trans-Dark Blue\n",
              "2                          Trans-Green\n",
              "3                   Trans-Bright Green\n",
              "4                            Trans-Red\n",
              "5                          Trans-Black\n",
              "6                     Trans-Light Blue\n",
              "7                     Trans-Neon Green\n",
              "8                   Trans-Very Lt Blue\n",
              "9                      Trans-Dark Pink\n",
              "10                        Trans-Yellow\n",
              "11                         Trans-Clear\n",
              "12                        Trans-Purple\n",
              "13                   Trans-Neon Yellow\n",
              "14                   Trans-Neon Orange\n",
              "15             Glitter Trans-Dark Pink\n",
              "16                 Glitter Trans-Clear\n",
              "17                Glitter Trans-Purple\n",
              "18                   Trans-Medium Blue\n",
              "19                        Trans-Orange\n",
              "20                          Trans-Pink\n",
              "21                  Trans-Light Purple\n",
              "22                  Glow In Dark Trans\n",
              "23            Glitter Trans-Neon Green\n",
              "24            Glitter Trans-Light Blue\n",
              "25        Trans-Flame Yellowish Orange\n",
              "26                   Trans-Fire Yellow\n",
              "27              Trans-Light Royal Blue\n",
              "28                Glitter Trans-Orange\n",
              "29                     Trans-Blue Opal\n",
              "30    Trans-Medium Reddish Violet Opal\n",
              "31                    Trans-Clear Opal\n",
              "32                    Trans-Brown Opal\n",
              "33            Trans-Light Bright Green\n",
              "34                   Trans-Light Green\n",
              "Name: name, dtype: object"
            ]
          },
          "metadata": {
            "tags": []
          }
        },
        {
          "output_type": "display_data",
          "data": {
            "text/plain": [
              "0                     Black\n",
              "1                      Blue\n",
              "2                     Green\n",
              "3            Dark Turquoise\n",
              "4                       Red\n",
              "               ...         \n",
              "145     Modulex Foil Yellow\n",
              "146     Modulex Foil Orange\n",
              "147                   Coral\n",
              "148             Pastel Blue\n",
              "149    [No Color/Any Color]\n",
              "Name: name, Length: 150, dtype: object"
            ]
          },
          "metadata": {
            "tags": []
          }
        }
      ]
    },
    {
      "cell_type": "markdown",
      "metadata": {
        "dc": {
          "key": "c9d0e58653"
        },
        "deletable": false,
        "editable": false,
        "run_control": {
          "frozen": true
        },
        "tags": [
          "context"
        ],
        "id": "UQ2NqAceOWkX",
        "colab_type": "text"
      },
      "source": [
        "## 5. Explore Lego Sets\n",
        "<p>Another interesting dataset available in this database is the <code>sets</code> data. It contains a comprehensive list of sets over the years and the number of parts that each of these sets contained. </p>\n",
        "<p><img src=\"https://imgur.com/1k4PoXs.png\" alt=\"sets_data\"></p>\n",
        "<p>Let us use this data to explore how the average number of parts in Lego sets has varied over the years.</p>"
      ]
    },
    {
      "cell_type": "markdown",
      "metadata": {
        "id": "l4q99SjMOWkX",
        "colab_type": "text"
      },
      "source": [
        "-------------------------------------------------------------------\n",
        "\n",
        "- Read the data in datasets/sets.csv as a DataFrame named sets.\n",
        "\n",
        "- Create a summary of the average number of parts per year and save it as parts_by_year.\n",
        "\n",
        "- Plot the average number of parts per year.\n",
        "\n",
        "--------------------------------------------------------------------"
      ]
    },
    {
      "cell_type": "code",
      "metadata": {
        "dc": {
          "key": "c9d0e58653"
        },
        "tags": [
          "sample_code"
        ],
        "id": "S2Ed5vsaOWkY",
        "colab_type": "code",
        "colab": {
          "base_uri": "https://localhost:8080/",
          "height": 919
        },
        "outputId": "e8356dfe-2c7d-42d5-e85c-3bee82062a68"
      },
      "source": [
        "%matplotlib inline\n",
        "import matplotlib.pyplot as plt\n",
        "\n",
        "# Read sets data as `sets`\n",
        "sets = pd.read_csv('/content/gdrive/My Drive/sets.csv')\n",
        "display(sets)\n",
        "# Create a summary of average number of parts by year: `parts_by_year`\n",
        "parts_by_year = sets['num_parts'].groupby(sets['year']).mean()\n",
        "display(parts_by_year)\n",
        "# Plot trends in average number of parts by year\n",
        "plt.plot(parts_by_year)"
      ],
      "execution_count": 26,
      "outputs": [
        {
          "output_type": "display_data",
          "data": {
            "text/html": [
              "<div>\n",
              "<style scoped>\n",
              "    .dataframe tbody tr th:only-of-type {\n",
              "        vertical-align: middle;\n",
              "    }\n",
              "\n",
              "    .dataframe tbody tr th {\n",
              "        vertical-align: top;\n",
              "    }\n",
              "\n",
              "    .dataframe thead th {\n",
              "        text-align: right;\n",
              "    }\n",
              "</style>\n",
              "<table border=\"1\" class=\"dataframe\">\n",
              "  <thead>\n",
              "    <tr style=\"text-align: right;\">\n",
              "      <th></th>\n",
              "      <th>set_num</th>\n",
              "      <th>name</th>\n",
              "      <th>year</th>\n",
              "      <th>theme_id</th>\n",
              "      <th>num_parts</th>\n",
              "    </tr>\n",
              "  </thead>\n",
              "  <tbody>\n",
              "    <tr>\n",
              "      <th>0</th>\n",
              "      <td>00-1</td>\n",
              "      <td>Weetabix Castle</td>\n",
              "      <td>1970</td>\n",
              "      <td>414</td>\n",
              "      <td>471</td>\n",
              "    </tr>\n",
              "    <tr>\n",
              "      <th>1</th>\n",
              "      <td>0011-2</td>\n",
              "      <td>Town Mini-Figures</td>\n",
              "      <td>1978</td>\n",
              "      <td>84</td>\n",
              "      <td>12</td>\n",
              "    </tr>\n",
              "    <tr>\n",
              "      <th>2</th>\n",
              "      <td>0011-3</td>\n",
              "      <td>Castle 2 for 1 Bonus Offer</td>\n",
              "      <td>1987</td>\n",
              "      <td>199</td>\n",
              "      <td>2</td>\n",
              "    </tr>\n",
              "    <tr>\n",
              "      <th>3</th>\n",
              "      <td>0012-1</td>\n",
              "      <td>Space Mini-Figures</td>\n",
              "      <td>1979</td>\n",
              "      <td>143</td>\n",
              "      <td>12</td>\n",
              "    </tr>\n",
              "    <tr>\n",
              "      <th>4</th>\n",
              "      <td>0013-1</td>\n",
              "      <td>Space Mini-Figures</td>\n",
              "      <td>1979</td>\n",
              "      <td>143</td>\n",
              "      <td>12</td>\n",
              "    </tr>\n",
              "    <tr>\n",
              "      <th>...</th>\n",
              "      <td>...</td>\n",
              "      <td>...</td>\n",
              "      <td>...</td>\n",
              "      <td>...</td>\n",
              "      <td>...</td>\n",
              "    </tr>\n",
              "    <tr>\n",
              "      <th>11861</th>\n",
              "      <td>Wauwatosa-1</td>\n",
              "      <td>LEGO Store Grand Opening Exclusive Set, Mayfai...</td>\n",
              "      <td>2012</td>\n",
              "      <td>408</td>\n",
              "      <td>15</td>\n",
              "    </tr>\n",
              "    <tr>\n",
              "      <th>11862</th>\n",
              "      <td>WHITEHOUSE-1</td>\n",
              "      <td>Micro White House</td>\n",
              "      <td>2015</td>\n",
              "      <td>598</td>\n",
              "      <td>59</td>\n",
              "    </tr>\n",
              "    <tr>\n",
              "      <th>11863</th>\n",
              "      <td>Wiesbaden-1</td>\n",
              "      <td>LEGO Store Grand Opening Exclusive Set, Wiesba...</td>\n",
              "      <td>2010</td>\n",
              "      <td>408</td>\n",
              "      <td>146</td>\n",
              "    </tr>\n",
              "    <tr>\n",
              "      <th>11864</th>\n",
              "      <td>WishingWell-1</td>\n",
              "      <td>Wishing Well [Toys R Us Promo]</td>\n",
              "      <td>2013</td>\n",
              "      <td>494</td>\n",
              "      <td>28</td>\n",
              "    </tr>\n",
              "    <tr>\n",
              "      <th>11865</th>\n",
              "      <td>wwgp1-1</td>\n",
              "      <td>Wild West Limited Edition Gift Pack</td>\n",
              "      <td>1996</td>\n",
              "      <td>476</td>\n",
              "      <td>3</td>\n",
              "    </tr>\n",
              "  </tbody>\n",
              "</table>\n",
              "<p>11866 rows × 5 columns</p>\n",
              "</div>"
            ],
            "text/plain": [
              "             set_num  ... num_parts\n",
              "0               00-1  ...       471\n",
              "1             0011-2  ...        12\n",
              "2             0011-3  ...         2\n",
              "3             0012-1  ...        12\n",
              "4             0013-1  ...        12\n",
              "...              ...  ...       ...\n",
              "11861    Wauwatosa-1  ...        15\n",
              "11862   WHITEHOUSE-1  ...        59\n",
              "11863    Wiesbaden-1  ...       146\n",
              "11864  WishingWell-1  ...        28\n",
              "11865        wwgp1-1  ...         3\n",
              "\n",
              "[11866 rows x 5 columns]"
            ]
          },
          "metadata": {
            "tags": []
          }
        },
        {
          "output_type": "display_data",
          "data": {
            "text/plain": [
              "year\n",
              "1950     10.142857\n",
              "1953     16.500000\n",
              "1954     12.357143\n",
              "1955     36.857143\n",
              "1956     18.500000\n",
              "           ...    \n",
              "2013    181.359191\n",
              "2014    169.320280\n",
              "2015    200.223881\n",
              "2016    248.945813\n",
              "2017    300.121277\n",
              "Name: num_parts, Length: 66, dtype: float64"
            ]
          },
          "metadata": {
            "tags": []
          }
        },
        {
          "output_type": "execute_result",
          "data": {
            "text/plain": [
              "[<matplotlib.lines.Line2D at 0x7fb8f6f52e48>]"
            ]
          },
          "metadata": {
            "tags": []
          },
          "execution_count": 26
        },
        {
          "output_type": "display_data",
          "data": {
            "image/png": "[encoded data removed]",
            "text/plain": [
              "<Figure size 432x288 with 1 Axes>"
            ]
          },
          "metadata": {
            "tags": [],
            "needs_background": "light"
          }
        }
      ]
    },
    {
      "cell_type": "markdown",
      "metadata": {
        "dc": {
          "key": "266a3f390c"
        },
        "deletable": false,
        "editable": false,
        "run_control": {
          "frozen": true
        },
        "tags": [
          "context"
        ],
        "id": "DFsDjOYbOWkm",
        "colab_type": "text"
      },
      "source": [
        "## 6. Lego Themes Over Years\n",
        "<p>Lego blocks ship under multiple <a href=\"https://shop.lego.com/en-US/Themes\">themes</a>. Let us try to get a sense of how the number of themes shipped has varied over the years.</p>"
      ]
    },
    {
      "cell_type": "markdown",
      "metadata": {
        "id": "eJ27ONvrOWkm",
        "colab_type": "text"
      },
      "source": [
        "-------------------------------------\n",
        "- Create a summary of the number of distinct themes shipped by year.\n",
        "\n",
        "- Save it as a DataFrame named themes_by_year.\n",
        "\n",
        "- Print the first couple of rows in themes_by_year.\n",
        "\n",
        "##### Note: In this step you may need to use an aggregation function that you have yet to encounter. The documentation here may be of assistance. You will want to find a way to return the number of unique values in each group.\n",
        "\n",
        "------------------------------------------------------------------------------"
      ]
    },
    {
      "cell_type": "code",
      "metadata": {
        "dc": {
          "key": "266a3f390c"
        },
        "tags": [
          "sample_code"
        ],
        "id": "gkIVxwcLOWkn",
        "colab_type": "code",
        "colab": {
          "base_uri": "https://localhost:8080/",
          "height": 204
        },
        "outputId": "3b6000f9-a4f4-4097-845a-ca02633c2163"
      },
      "source": [
        "# themes_by_year: Number of themes shipped by year\n",
        "themes_by_year = pd.DataFrame(sets['theme_id'].groupby(sets['year']).value_counts())\n",
        "themes_by_year.head(n=4)"
      ],
      "execution_count": 32,
      "outputs": [
        {
          "output_type": "execute_result",
          "data": {
            "text/html": [
              "<div>\n",
              "<style scoped>\n",
              "    .dataframe tbody tr th:only-of-type {\n",
              "        vertical-align: middle;\n",
              "    }\n",
              "\n",
              "    .dataframe tbody tr th {\n",
              "        vertical-align: top;\n",
              "    }\n",
              "\n",
              "    .dataframe thead th {\n",
              "        text-align: right;\n",
              "    }\n",
              "</style>\n",
              "<table border=\"1\" class=\"dataframe\">\n",
              "  <thead>\n",
              "    <tr style=\"text-align: right;\">\n",
              "      <th></th>\n",
              "      <th></th>\n",
              "      <th>theme_id</th>\n",
              "    </tr>\n",
              "    <tr>\n",
              "      <th>year</th>\n",
              "      <th>theme_id</th>\n",
              "      <th></th>\n",
              "    </tr>\n",
              "  </thead>\n",
              "  <tbody>\n",
              "    <tr>\n",
              "      <th rowspan=\"2\" valign=\"top\">1950</th>\n",
              "      <th>371</th>\n",
              "      <td>6</td>\n",
              "    </tr>\n",
              "    <tr>\n",
              "      <th>366</th>\n",
              "      <td>1</td>\n",
              "    </tr>\n",
              "    <tr>\n",
              "      <th>1953</th>\n",
              "      <th>371</th>\n",
              "      <td>4</td>\n",
              "    </tr>\n",
              "    <tr>\n",
              "      <th>1954</th>\n",
              "      <th>371</th>\n",
              "      <td>12</td>\n",
              "    </tr>\n",
              "  </tbody>\n",
              "</table>\n",
              "</div>"
            ],
            "text/plain": [
              "               theme_id\n",
              "year theme_id          \n",
              "1950 371              6\n",
              "     366              1\n",
              "1953 371              4\n",
              "1954 371             12"
            ]
          },
          "metadata": {
            "tags": []
          },
          "execution_count": 32
        }
      ]
    },
    {
      "cell_type": "markdown",
      "metadata": {
        "dc": {
          "key": "a293e5076e"
        },
        "deletable": false,
        "editable": false,
        "run_control": {
          "frozen": true
        },
        "tags": [
          "context"
        ],
        "id": "AIOjEERUOWkq",
        "colab_type": "text"
      },
      "source": [
        "## 7. Wrapping It All Up!\n",
        "<p>Lego blocks offer an unlimited amount of fun across ages. We explored some interesting trends around colors, parts, and themes. </p>"
      ]
    },
    {
      "cell_type": "markdown",
      "metadata": {
        "id": "9GOlLS55OWkq",
        "colab_type": "text"
      },
      "source": [
        "-----------------------------------------------\n",
        "- In 1999, Lego expanded into licensed sets with the introduction of Star Wars themed sets. In that year, how many unique themes were released?\n",
        "\n",
        "- Assign your answer to the variable num_themes.\n",
        "\n",
        "- Print num_themes.\n",
        "\n",
        "\n",
        "##### Note: If you have another interesting subjects with lego datasets, try it.\n",
        "\n",
        "-------------------------------------------------------------"
      ]
    },
    {
      "cell_type": "code",
      "metadata": {
        "dc": {
          "key": "a293e5076e"
        },
        "tags": [
          "sample_code"
        ],
        "id": "DhIXFkToOWkr",
        "colab_type": "code",
        "colab": {
          "base_uri": "https://localhost:8080/",
          "height": 233
        },
        "outputId": "f97d0bfd-e73d-43ce-be64-007cd2d2b6d4"
      },
      "source": [
        "df = sets\n",
        "df = df[(df['year']==1999)]\n",
        "num_themes = df['theme_id'].value_counts()\n",
        "\n",
        "print(num_themes)"
      ],
      "execution_count": 41,
      "outputs": [
        {
          "output_type": "stream",
          "text": [
            "470    26\n",
            "217    24\n",
            "93     22\n",
            "434    16\n",
            "1      14\n",
            "       ..\n",
            "142     1\n",
            "140     1\n",
            "502     1\n",
            "98      1\n",
            "133     1\n",
            "Name: theme_id, Length: 71, dtype: int64\n"
          ],
          "name": "stdout"
        }
      ]
    },
    {
      "cell_type": "code",
      "metadata": {
        "id": "3HoibyA5Ux2L",
        "colab_type": "code",
        "colab": {}
      },
      "source": [
        ""
      ],
      "execution_count": null,
      "outputs": []
    }
  ]
}