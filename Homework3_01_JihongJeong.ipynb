{
  "nbformat": 4,
  "nbformat_minor": 0,
  "metadata": {
    "kernelspec": {
      "display_name": "Python 3",
      "language": "python",
      "name": "python3"
    },
    "language_info": {
      "codemirror_mode": {
        "name": "ipython",
        "version": 3
      },
      "file_extension": ".py",
      "mimetype": "text/x-python",
      "name": "python",
      "nbconvert_exporter": "python",
      "pygments_lexer": "ipython3",
      "version": "3.8.5"
    },
    "colab": {
      "name": "Homework3-01_JihongJeong.ipynb",
      "provenance": []
    }
  },
  "cells": [
    {
      "cell_type": "markdown",
      "metadata": {
        "dc": {
          "key": "3"
        },
        "deletable": false,
        "editable": false,
        "run_control": {
          "frozen": true
        },
        "tags": [
          "context"
        ],
        "id": "RvXCK06qh3Kb",
        "colab_type": "text"
      },
      "source": [
        "## 1. The most Nobel of Prizes\n",
        "<p><img style=\"float: right;margin:5px 20px 5px 1px; max-width:250px\" src=\"https://assets.datacamp.com/production/project_441/img/Nobel_Prize.png\"></p>\n",
        "<p>The Nobel Prize is perhaps the world's most well known scientific award. Except for the honor, prestige and substantial prize money the recipient also gets a gold medal showing Alfred Nobel (1833 - 1896) who established the prize. Every year it's given to scientists and scholars in the categories chemistry, literature, physics, physiology or medicine, economics, and peace. The first Nobel Prize was handed out in 1901, and at that time the Prize was very Eurocentric and male-focused, but nowadays it's not biased in any way whatsoever. Surely. Right?</p>\n",
        "<p>Well, we're going to find out! The Nobel Foundation has made a dataset available of all prize winners from the start of the prize, in 1901, to 2016. Let's load it in and take a look.</p>"
      ]
    },
    {
      "cell_type": "markdown",
      "metadata": {
        "id": "pPeSiFBth3Kd",
        "colab_type": "text"
      },
      "source": [
        "-------------------------------------\n",
        "Load the required libraries and the Nobel Prize dataset.\n",
        "\n",
        "- Import the pandas library as pd.\n",
        "- Import the seaborn library as sns.\n",
        "- Import the numpy library as np.\n",
        "- Use pd.read_csv to read in datasets/nobel.csv and save it into nobel.\n",
        "- Show at least the first six entries of nobel using the head() method, setting n=6 or greater.\n",
        "\n",
        "\n",
        "#### Good to know\n",
        "Note: a test in this task relies on the expected last output of this cell. In this case, the first six entries of nobel being displayed. If this is not the case, you may run into the following error after ten seconds of the cell being processed: \"Your code exceeded the maximum run time permitted.\"\n",
        "\n",
        "--------------------------------------"
      ]
    },
    {
      "cell_type": "code",
      "metadata": {
        "id": "piqzLh4_kieC",
        "colab_type": "code",
        "colab": {
          "base_uri": "https://localhost:8080/",
          "height": 35
        },
        "outputId": "f7412b8b-4ca1-43a0-a276-0a062b585b0c"
      },
      "source": [
        "from google.colab import drive \n",
        "drive.mount('/content/gdrive/')"
      ],
      "execution_count": 1,
      "outputs": [
        {
          "output_type": "stream",
          "text": [
            "Mounted at /content/gdrive/\n"
          ],
          "name": "stdout"
        }
      ]
    },
    {
      "cell_type": "code",
      "metadata": {
        "dc": {
          "key": "3"
        },
        "tags": [
          "sample_code"
        ],
        "id": "uDFGluyah3Kf",
        "colab_type": "code",
        "colab": {
          "base_uri": "https://localhost:8080/",
          "height": 631
        },
        "outputId": "f106e5d6-3407-47a0-84c9-8ebe9338f947"
      },
      "source": [
        "# Loading in required libraries\n",
        "import pandas as pd\n",
        "import seaborn as sns\n",
        "import numpy as np\n",
        "\n",
        "# Reading in the Nobel Prize data\n",
        "nobel = pd.read_csv('/content/gdrive/My Drive/nobel_new.csv')\n",
        "\n",
        "# Taking a look at the first several winners\n",
        "nobel.head(n = 6)"
      ],
      "execution_count": 2,
      "outputs": [
        {
          "output_type": "stream",
          "text": [
            "/usr/local/lib/python3.6/dist-packages/statsmodels/tools/_testing.py:19: FutureWarning: pandas.util.testing is deprecated. Use the functions in the public API at pandas.testing instead.\n",
            "  import pandas.util.testing as tm\n"
          ],
          "name": "stderr"
        },
        {
          "output_type": "execute_result",
          "data": {
            "text/html": [
              "<div>\n",
              "<style scoped>\n",
              "    .dataframe tbody tr th:only-of-type {\n",
              "        vertical-align: middle;\n",
              "    }\n",
              "\n",
              "    .dataframe tbody tr th {\n",
              "        vertical-align: top;\n",
              "    }\n",
              "\n",
              "    .dataframe thead th {\n",
              "        text-align: right;\n",
              "    }\n",
              "</style>\n",
              "<table border=\"1\" class=\"dataframe\">\n",
              "  <thead>\n",
              "    <tr style=\"text-align: right;\">\n",
              "      <th></th>\n",
              "      <th>year</th>\n",
              "      <th>category</th>\n",
              "      <th>prize</th>\n",
              "      <th>motivation</th>\n",
              "      <th>prize_share</th>\n",
              "      <th>laureate_id</th>\n",
              "      <th>laureate_type</th>\n",
              "      <th>full_name</th>\n",
              "      <th>birth_date</th>\n",
              "      <th>birth_city</th>\n",
              "      <th>birth_country</th>\n",
              "      <th>sex</th>\n",
              "      <th>organization_name</th>\n",
              "      <th>organization_city</th>\n",
              "      <th>organization_country</th>\n",
              "      <th>death_date</th>\n",
              "      <th>death_city</th>\n",
              "      <th>death_country</th>\n",
              "    </tr>\n",
              "  </thead>\n",
              "  <tbody>\n",
              "    <tr>\n",
              "      <th>0</th>\n",
              "      <td>1901</td>\n",
              "      <td>Chemistry</td>\n",
              "      <td>The Nobel Prize in Chemistry 1901</td>\n",
              "      <td>\"in recognition of the extraordinary services ...</td>\n",
              "      <td>1/1</td>\n",
              "      <td>160</td>\n",
              "      <td>Individual</td>\n",
              "      <td>Jacobus Henricus van 't Hoff</td>\n",
              "      <td>1852-08-30</td>\n",
              "      <td>Rotterdam</td>\n",
              "      <td>Netherlands</td>\n",
              "      <td>Male</td>\n",
              "      <td>Berlin University</td>\n",
              "      <td>Berlin</td>\n",
              "      <td>Germany</td>\n",
              "      <td>1911-03-01</td>\n",
              "      <td>Berlin</td>\n",
              "      <td>Germany</td>\n",
              "    </tr>\n",
              "    <tr>\n",
              "      <th>1</th>\n",
              "      <td>1901</td>\n",
              "      <td>Literature</td>\n",
              "      <td>The Nobel Prize in Literature 1901</td>\n",
              "      <td>\"in special recognition of his poetic composit...</td>\n",
              "      <td>1/1</td>\n",
              "      <td>569</td>\n",
              "      <td>Individual</td>\n",
              "      <td>Sully Prudhomme</td>\n",
              "      <td>1839-03-16</td>\n",
              "      <td>Paris</td>\n",
              "      <td>France</td>\n",
              "      <td>Male</td>\n",
              "      <td>NaN</td>\n",
              "      <td>NaN</td>\n",
              "      <td>NaN</td>\n",
              "      <td>1907-09-07</td>\n",
              "      <td>Châtenay</td>\n",
              "      <td>France</td>\n",
              "    </tr>\n",
              "    <tr>\n",
              "      <th>2</th>\n",
              "      <td>1901</td>\n",
              "      <td>Medicine</td>\n",
              "      <td>The Nobel Prize in Physiology or Medicine 1901</td>\n",
              "      <td>\"for his work on serum therapy, especially its...</td>\n",
              "      <td>1/1</td>\n",
              "      <td>293</td>\n",
              "      <td>Individual</td>\n",
              "      <td>Emil Adolf von Behring</td>\n",
              "      <td>1854-03-15</td>\n",
              "      <td>Hansdorf (Lawice)</td>\n",
              "      <td>Prussia (Poland)</td>\n",
              "      <td>Male</td>\n",
              "      <td>Marburg University</td>\n",
              "      <td>Marburg</td>\n",
              "      <td>Germany</td>\n",
              "      <td>1917-03-31</td>\n",
              "      <td>Marburg</td>\n",
              "      <td>Germany</td>\n",
              "    </tr>\n",
              "    <tr>\n",
              "      <th>3</th>\n",
              "      <td>1901</td>\n",
              "      <td>Peace</td>\n",
              "      <td>The Nobel Peace Prize 1901</td>\n",
              "      <td>NaN</td>\n",
              "      <td>1/2</td>\n",
              "      <td>462</td>\n",
              "      <td>Individual</td>\n",
              "      <td>Jean Henry Dunant</td>\n",
              "      <td>1828-05-08</td>\n",
              "      <td>Geneva</td>\n",
              "      <td>Switzerland</td>\n",
              "      <td>Male</td>\n",
              "      <td>NaN</td>\n",
              "      <td>NaN</td>\n",
              "      <td>NaN</td>\n",
              "      <td>1910-10-30</td>\n",
              "      <td>Heiden</td>\n",
              "      <td>Switzerland</td>\n",
              "    </tr>\n",
              "    <tr>\n",
              "      <th>4</th>\n",
              "      <td>1901</td>\n",
              "      <td>Peace</td>\n",
              "      <td>The Nobel Peace Prize 1901</td>\n",
              "      <td>NaN</td>\n",
              "      <td>1/2</td>\n",
              "      <td>463</td>\n",
              "      <td>Individual</td>\n",
              "      <td>Frédéric Passy</td>\n",
              "      <td>1822-05-20</td>\n",
              "      <td>Paris</td>\n",
              "      <td>France</td>\n",
              "      <td>Male</td>\n",
              "      <td>NaN</td>\n",
              "      <td>NaN</td>\n",
              "      <td>NaN</td>\n",
              "      <td>1912-06-12</td>\n",
              "      <td>Paris</td>\n",
              "      <td>France</td>\n",
              "    </tr>\n",
              "    <tr>\n",
              "      <th>5</th>\n",
              "      <td>1901</td>\n",
              "      <td>Physics</td>\n",
              "      <td>The Nobel Prize in Physics 1901</td>\n",
              "      <td>\"in recognition of the extraordinary services ...</td>\n",
              "      <td>1/1</td>\n",
              "      <td>1</td>\n",
              "      <td>Individual</td>\n",
              "      <td>Wilhelm Conrad Röntgen</td>\n",
              "      <td>1845-03-27</td>\n",
              "      <td>Lennep (Remscheid)</td>\n",
              "      <td>Prussia (Germany)</td>\n",
              "      <td>Male</td>\n",
              "      <td>Munich University</td>\n",
              "      <td>Munich</td>\n",
              "      <td>Germany</td>\n",
              "      <td>1923-02-10</td>\n",
              "      <td>Munich</td>\n",
              "      <td>Germany</td>\n",
              "    </tr>\n",
              "  </tbody>\n",
              "</table>\n",
              "</div>"
            ],
            "text/plain": [
              "   year    category  ... death_city death_country\n",
              "0  1901   Chemistry  ...     Berlin       Germany\n",
              "1  1901  Literature  ...   Châtenay        France\n",
              "2  1901    Medicine  ...    Marburg       Germany\n",
              "3  1901       Peace  ...     Heiden   Switzerland\n",
              "4  1901       Peace  ...      Paris        France\n",
              "5  1901     Physics  ...     Munich       Germany\n",
              "\n",
              "[6 rows x 18 columns]"
            ]
          },
          "metadata": {
            "tags": []
          },
          "execution_count": 2
        }
      ]
    },
    {
      "cell_type": "markdown",
      "metadata": {
        "dc": {
          "key": "10"
        },
        "deletable": false,
        "editable": false,
        "run_control": {
          "frozen": true
        },
        "tags": [
          "context"
        ],
        "id": "wJRcrNNTh3Km",
        "colab_type": "text"
      },
      "source": [
        "## 2. So, who gets the Nobel Prize?\n",
        "<p>Just looking at the first couple of prize winners, or Nobel laureates as they are also called, we already see a celebrity: Wilhelm Conrad Röntgen, the guy who discovered X-rays. And actually, we see that all of the winners in 1901 were guys that came from Europe. But that was back in 1901, looking at all winners in the dataset, from 1901 to 2016, which sex and which country is the most commonly represented? </p>\n",
        "<p>(For <em>country</em>, we will use the <code>birth_country</code> of the winner, as the <code>organization_country</code> is <code>NaN</code> for all shared Nobel Prizes.)</p>"
      ]
    },
    {
      "cell_type": "markdown",
      "metadata": {
        "id": "fW9SQMuMh3Ko",
        "colab_type": "text"
      },
      "source": [
        "---------------------------------------------------\n",
        "Count up the Nobel Prizes. Also, split by sex and birth_country.\n",
        "\n",
        "- Count the number of rows/prizes using the len() function. Use the display() function to display the result.\n",
        "- Count and display the number of prizes for each sex using the value_counts() method.\n",
        "- Count the number of prizes for each birth_country using value_counts() and show the top 10 using head(). Do not use display().\n",
        "\n",
        "#### Note: a test in this task relies on the expected last output of this cell based on the order of the instructions. If this is not the case, you may run into the following error after ten seconds of the cell being processed: \"Your code exceeded the maximum run time permitted.\"\n",
        "\n",
        "By default, a Jupyter Notebook (which is where you are working right now) will only show the final output in a cell. If you want to show intermediate results, you will have to use the display() function. See here for an example of how to use value_counts().\n",
        "\n",
        "Why display() over print()? Try them both out for yourself. You'll find that the output of display() is prettier. :)\n",
        "\n",
        "----------------------------------------------"
      ]
    },
    {
      "cell_type": "code",
      "metadata": {
        "dc": {
          "key": "10"
        },
        "tags": [
          "sample_code"
        ],
        "id": "y7BAJfR-h3Kp",
        "colab_type": "code",
        "colab": {
          "base_uri": "https://localhost:8080/",
          "height": 287
        },
        "outputId": "0036febd-ab61-481c-8290-f501d4769ef9"
      },
      "source": [
        "# Display the number of (possibly shared) Nobel Prizes handed\n",
        "# out between 1901 and 2016\n",
        "df = nobel\n",
        "df = df[(df['year']>=1901) & (df['year']<=2016)]\n",
        "print(len(df))\n",
        "\n",
        "# Display the number of prizes won by male and female recipients.\n",
        "#new = df['Prize'].groupby(df['Sex']).count()\n",
        "new = df['sex'].value_counts()\n",
        "display(new)\n",
        "\n",
        "# Display the number of prizes won by the top 10 nationalities.\n",
        "#new2 = df['Prize'].groupby(df['Birth Country']).count()\n",
        "new2 = df['birth_country'].value_counts()\n",
        "new2.head(n=10)"
      ],
      "execution_count": 5,
      "outputs": [
        {
          "output_type": "stream",
          "text": [
            "911\n"
          ],
          "name": "stdout"
        },
        {
          "output_type": "display_data",
          "data": {
            "text/plain": [
              "Male      836\n",
              "Female     49\n",
              "Name: sex, dtype: int64"
            ]
          },
          "metadata": {
            "tags": []
          }
        },
        {
          "output_type": "execute_result",
          "data": {
            "text/plain": [
              "United States of America    259\n",
              "United Kingdom               85\n",
              "Germany                      61\n",
              "France                       51\n",
              "Sweden                       29\n",
              "Japan                        24\n",
              "Netherlands                  18\n",
              "Canada                       18\n",
              "Russia                       17\n",
              "Italy                        17\n",
              "Name: birth_country, dtype: int64"
            ]
          },
          "metadata": {
            "tags": []
          },
          "execution_count": 5
        }
      ]
    },
    {
      "cell_type": "markdown",
      "metadata": {
        "dc": {
          "key": "17"
        },
        "deletable": false,
        "editable": false,
        "run_control": {
          "frozen": true
        },
        "tags": [
          "context"
        ],
        "id": "ig9LPEv-h3Kt",
        "colab_type": "text"
      },
      "source": [
        "## 3. USA dominance\n",
        "<p>Not so surprising perhaps: the most common Nobel laureate between 1901 and 2016 was a man born in the United States of America. But in 1901 all the winners were European. When did the USA start to dominate the Nobel Prize charts?</p>"
      ]
    },
    {
      "cell_type": "markdown",
      "metadata": {
        "id": "5OpR2_aIh3Kv",
        "colab_type": "text"
      },
      "source": [
        "Create a DataFrame with two columns: decade and proportion of USA-born Nobel Prize winners that decade.\n",
        "\n",
        "- Add a usa_born_winner column to nobel, where the value is True when birth_country is \"United States of America\".\n",
        "- Add a decade column to nobel for the decade each prize was awarded. Here, np.floor() will come in handy. Ensure the decade column is of type int64.\n",
        "- Use groupby to group by decade, setting as_index=False. Then isolate the usa_born_winner column and take the mean(). Assign the resulting DataFrame to prop_usa_winners.\n",
        "- Display prop_usa_winners.\n",
        "\n",
        "For the decade column, 1953 should become 1950, for example. Calculating this column is a bit tricky, but try to see if you can solve it using the np.floor function.\n",
        "\n",
        "By setting as_index=False, you make sure that both the grouping variable and the calculated mean are included in the resulting DataFrame.\n",
        "\n",
        "---------------------------------------"
      ]
    },
    {
      "cell_type": "code",
      "metadata": {
        "dc": {
          "key": "17"
        },
        "tags": [
          "sample_code"
        ],
        "id": "GgBeQ88Ih3Kv",
        "colab_type": "code",
        "colab": {
          "base_uri": "https://localhost:8080/",
          "height": 327
        },
        "outputId": "552c1e00-526f-4963-ffdc-bb13de28917e"
      },
      "source": [
        "# Calculating the proportion of USA born winners per decade\n",
        "nobel['usa_born_winner'] = (nobel['birth_country'] == 'United States of America')\n",
        "nobel['decade'] = np.floor(nobel['year'].astype(int)/100+1)\n",
        "prop_usa_winners = nobel.groupby(nobel['decade'], as_index=False).mean()\n",
        "\n",
        "# Display the proportions of USA born winners per decade\n",
        "display(prop_usa_winners)"
      ],
      "execution_count": 20,
      "outputs": [
        {
          "output_type": "display_data",
          "data": {
            "text/plain": [
              "0      False\n",
              "1      False\n",
              "2      False\n",
              "3      False\n",
              "4      False\n",
              "       ...  \n",
              "906    False\n",
              "907    False\n",
              "908    False\n",
              "909    False\n",
              "910    False\n",
              "Name: usa_born_winner, Length: 911, dtype: bool"
            ]
          },
          "metadata": {
            "tags": []
          }
        },
        {
          "output_type": "display_data",
          "data": {
            "text/html": [
              "<div>\n",
              "<style scoped>\n",
              "    .dataframe tbody tr th:only-of-type {\n",
              "        vertical-align: middle;\n",
              "    }\n",
              "\n",
              "    .dataframe tbody tr th {\n",
              "        vertical-align: top;\n",
              "    }\n",
              "\n",
              "    .dataframe thead th {\n",
              "        text-align: right;\n",
              "    }\n",
              "</style>\n",
              "<table border=\"1\" class=\"dataframe\">\n",
              "  <thead>\n",
              "    <tr style=\"text-align: right;\">\n",
              "      <th></th>\n",
              "      <th>decade</th>\n",
              "      <th>year</th>\n",
              "      <th>laureate_id</th>\n",
              "      <th>usa_born_winner</th>\n",
              "    </tr>\n",
              "  </thead>\n",
              "  <tbody>\n",
              "    <tr>\n",
              "      <th>0</th>\n",
              "      <td>20.0</td>\n",
              "      <td>1957.988669</td>\n",
              "      <td>356.449008</td>\n",
              "      <td>0.259207</td>\n",
              "    </tr>\n",
              "    <tr>\n",
              "      <th>1</th>\n",
              "      <td>21.0</td>\n",
              "      <td>2007.819512</td>\n",
              "      <td>827.800000</td>\n",
              "      <td>0.370732</td>\n",
              "    </tr>\n",
              "  </tbody>\n",
              "</table>\n",
              "</div>"
            ],
            "text/plain": [
              "   decade         year  laureate_id  usa_born_winner\n",
              "0    20.0  1957.988669   356.449008         0.259207\n",
              "1    21.0  2007.819512   827.800000         0.370732"
            ]
          },
          "metadata": {
            "tags": []
          }
        }
      ]
    },
    {
      "cell_type": "markdown",
      "metadata": {
        "dc": {
          "key": "24"
        },
        "deletable": false,
        "editable": false,
        "run_control": {
          "frozen": true
        },
        "tags": [
          "context"
        ],
        "id": "b04mQbVSh3K1",
        "colab_type": "text"
      },
      "source": [
        "## 4. USA dominance, visualized\n",
        "<p>A table is OK, but to <em>see</em> when the USA started to dominate the Nobel charts we need a plot!</p>"
      ]
    },
    {
      "cell_type": "markdown",
      "metadata": {
        "id": "HqtcUlFsh3K2",
        "colab_type": "text"
      },
      "source": [
        "---------------------------------------\n",
        "Plot the proportion of USA born winners per decade.\n",
        "\n",
        "- Use seaborn to plot prop_usa_winners with decade on the x-axis and usa_born_winner on the y-axis as an sns.lineplot. Assign the plot to ax.\n",
        "- Fix the y-scale so that it shows percentages using PercentFormatter.\n",
        "\n",
        "-----------------------------------"
      ]
    },
    {
      "cell_type": "code",
      "metadata": {
        "dc": {
          "key": "24"
        },
        "tags": [
          "sample_code"
        ],
        "id": "9n11zGQCh3K3",
        "colab_type": "code",
        "colab": {
          "base_uri": "https://localhost:8080/",
          "height": 448
        },
        "outputId": "7f35b096-ff41-4af1-9e55-2844c8188024"
      },
      "source": [
        "# Setting the plotting theme\n",
        "sns.set()\n",
        "# and setting the size of all plots.\n",
        "import matplotlib.pyplot as plt\n",
        "plt.rcParams['figure.figsize'] = [11, 7]\n",
        "\n",
        "# Plotting USA born winners \n",
        "ax = sns.lineplot(x=prop_usa_winners['decade'], y=prop_usa_winners['usa_born_winner'])\n",
        "\n",
        "# Adding %-formatting to the y-axis\n",
        "from matplotlib.ticker import PercentFormatter\n",
        "ax.yaxis.set_major_formatter(PercentFormatter(xmax=1))"
      ],
      "execution_count": 32,
      "outputs": [
        {
          "output_type": "display_data",
          "data": {
            "image/png": "[encoded data removed]",
            "text/plain": [
              "<Figure size 792x504 with 1 Axes>"
            ]
          },
          "metadata": {
            "tags": []
          }
        }
      ]
    },
    {
      "cell_type": "markdown",
      "metadata": {
        "dc": {
          "key": "31"
        },
        "deletable": false,
        "editable": false,
        "run_control": {
          "frozen": true
        },
        "tags": [
          "context"
        ],
        "id": "tjtUd16Mh3K-",
        "colab_type": "text"
      },
      "source": [
        "## 5. What is the gender of a typical Nobel Prize winner?\n",
        "<p>So the USA became the dominating winner of the Nobel Prize first in the 1930s and had kept the leading position ever since. But one group that was in the lead from the start, and never seems to let go, are <em>men</em>. Maybe it shouldn't come as a shock that there is some imbalance between how many male and female prize winners there are, but how significant is this imbalance? And is it better or worse within specific prize categories like physics, medicine, literature, etc.?</p>"
      ]
    },
    {
      "cell_type": "markdown",
      "metadata": {
        "id": "cCAwNwJph3K-",
        "colab_type": "text"
      },
      "source": [
        "--------------------------------------------\n",
        "Plot the proportion of female laureates by decade split by prize category.\n",
        "\n",
        "- Add the female_winner column to nobel, where the value is True when sex is \"Female\".\n",
        "- Use groupby to group by both decade and category, setting as_index=False. Then isolate the female_winner column and take the mean(). Assign the resulting DataFrame to prop_female_winners.\n",
        "- Copy and paste your seaborn plot from task 4 (including axis formatting code), but plot prop_female_winners and map the category variable to the hue parameter.\n",
        "\n",
        "This task can be solved by copying and modifying the code from task 3 and 4.\n",
        "\n",
        "-------------------------"
      ]
    },
    {
      "cell_type": "code",
      "metadata": {
        "dc": {
          "key": "31"
        },
        "tags": [
          "sample_code"
        ],
        "id": "OTuE0iHkh3K_",
        "colab_type": "code",
        "colab": {
          "base_uri": "https://localhost:8080/",
          "height": 448
        },
        "outputId": "d6ed230c-6487-45fa-8a71-55a2756d1f78"
      },
      "source": [
        "# Calculating the proportion of female laureates per decade\n",
        "nobel['female_winner'] = nobel['sex']=='Female'\n",
        "prop_female_winners = nobel.groupby(['decade', 'category'], as_index=False)['female_winner'].mean()\n",
        "\n",
        "# Plotting USA born winners with % winners on the y-axis\n",
        "ax = sns.lineplot(x=prop_female_winners['decade'], y=prop_female_winners['female_winner'], hue = prop_female_winners['category'])\n",
        "ax.yaxis.set_major_formatter(PercentFormatter(xmax=1))"
      ],
      "execution_count": 39,
      "outputs": [
        {
          "output_type": "display_data",
          "data": {
            "image/png": "[encoded data removed]",
            "text/plain": [
              "<Figure size 792x504 with 1 Axes>"
            ]
          },
          "metadata": {
            "tags": []
          }
        }
      ]
    },
    {
      "cell_type": "markdown",
      "metadata": {
        "dc": {
          "key": "38"
        },
        "deletable": false,
        "editable": false,
        "run_control": {
          "frozen": true
        },
        "tags": [
          "context"
        ],
        "id": "Q5JXGTzxh3LF",
        "colab_type": "text"
      },
      "source": [
        "## 6. The first woman to win the Nobel Prize\n",
        "<p>The plot above is a bit messy as the lines are overplotting. But it does show some interesting trends and patterns. Overall the imbalance is pretty large with physics, economics, and chemistry having the largest imbalance. Medicine has a somewhat positive trend, and since the 1990s the literature prize is also now more balanced. The big outlier is the peace prize during the 2010s, but keep in mind that this just covers the years 2010 to 2016.</p>\n",
        "<p>Given this imbalance, who was the first woman to receive a Nobel Prize? And in what category?</p>"
      ]
    },
    {
      "cell_type": "markdown",
      "metadata": {
        "id": "2dqDic1Bh3LG",
        "colab_type": "text"
      },
      "source": [
        "----------------------------------------\n",
        "Extract and display the row showing the first woman to win a Nobel Prize.\n",
        "\n",
        "- Select only the rows of 'Female' winners in nobel.\n",
        "- Using the nsmallest() method with its n and columns parameters, pick out the first woman to get a Nobel Prize.\n",
        "\n",
        "#### Note: a test in this task relies on the expected last output of this cell based on the order of the instructions. If this is not the case, you may run into the following error after ten seconds of the cell being processed: \"Your code exceeded the maximum run time permitted.\"\n",
        "\n",
        "----------------------------"
      ]
    },
    {
      "cell_type": "code",
      "metadata": {
        "dc": {
          "key": "38"
        },
        "tags": [
          "sample_code"
        ],
        "id": "DHyzAT_lh3LH",
        "colab_type": "code",
        "colab": {
          "base_uri": "https://localhost:8080/",
          "height": 185
        },
        "outputId": "398e0a3d-7193-4352-d88c-2d5221f17ce4"
      },
      "source": [
        "# Picking out the first woman to win a Nobel Prize\n",
        "df = nobel\n",
        "df = df[nobel['sex']=='Female']\n",
        "df.nsmallest(1, 'year')"
      ],
      "execution_count": 43,
      "outputs": [
        {
          "output_type": "execute_result",
          "data": {
            "text/html": [
              "<div>\n",
              "<style scoped>\n",
              "    .dataframe tbody tr th:only-of-type {\n",
              "        vertical-align: middle;\n",
              "    }\n",
              "\n",
              "    .dataframe tbody tr th {\n",
              "        vertical-align: top;\n",
              "    }\n",
              "\n",
              "    .dataframe thead th {\n",
              "        text-align: right;\n",
              "    }\n",
              "</style>\n",
              "<table border=\"1\" class=\"dataframe\">\n",
              "  <thead>\n",
              "    <tr style=\"text-align: right;\">\n",
              "      <th></th>\n",
              "      <th>year</th>\n",
              "      <th>category</th>\n",
              "      <th>prize</th>\n",
              "      <th>motivation</th>\n",
              "      <th>prize_share</th>\n",
              "      <th>laureate_id</th>\n",
              "      <th>laureate_type</th>\n",
              "      <th>full_name</th>\n",
              "      <th>birth_date</th>\n",
              "      <th>birth_city</th>\n",
              "      <th>birth_country</th>\n",
              "      <th>sex</th>\n",
              "      <th>organization_name</th>\n",
              "      <th>organization_city</th>\n",
              "      <th>organization_country</th>\n",
              "      <th>death_date</th>\n",
              "      <th>death_city</th>\n",
              "      <th>death_country</th>\n",
              "      <th>usa_born_winner</th>\n",
              "      <th>decade</th>\n",
              "      <th>female_winner</th>\n",
              "    </tr>\n",
              "  </thead>\n",
              "  <tbody>\n",
              "    <tr>\n",
              "      <th>19</th>\n",
              "      <td>1903</td>\n",
              "      <td>Physics</td>\n",
              "      <td>The Nobel Prize in Physics 1903</td>\n",
              "      <td>\"in recognition of the extraordinary services ...</td>\n",
              "      <td>1/4</td>\n",
              "      <td>6</td>\n",
              "      <td>Individual</td>\n",
              "      <td>Marie Curie, née Sklodowska</td>\n",
              "      <td>1867-11-07</td>\n",
              "      <td>Warsaw</td>\n",
              "      <td>Russian Empire (Poland)</td>\n",
              "      <td>Female</td>\n",
              "      <td>NaN</td>\n",
              "      <td>NaN</td>\n",
              "      <td>NaN</td>\n",
              "      <td>1934-07-04</td>\n",
              "      <td>Sallanches</td>\n",
              "      <td>France</td>\n",
              "      <td>False</td>\n",
              "      <td>20.0</td>\n",
              "      <td>True</td>\n",
              "    </tr>\n",
              "  </tbody>\n",
              "</table>\n",
              "</div>"
            ],
            "text/plain": [
              "    year category  ... decade female_winner\n",
              "19  1903  Physics  ...   20.0          True\n",
              "\n",
              "[1 rows x 21 columns]"
            ]
          },
          "metadata": {
            "tags": []
          },
          "execution_count": 43
        }
      ]
    },
    {
      "cell_type": "markdown",
      "metadata": {
        "dc": {
          "key": "45"
        },
        "deletable": false,
        "editable": false,
        "run_control": {
          "frozen": true
        },
        "tags": [
          "context"
        ],
        "id": "0Y9EYvgnh3LL",
        "colab_type": "text"
      },
      "source": [
        "## 7. Repeat laureates\n",
        "<p>For most scientists/writers/activists a Nobel Prize would be the crowning achievement of a long career. But for some people, one is just not enough, and few have gotten it more than once. Who are these lucky few? (Having won no Nobel Prize myself, I'll assume it's just about luck.)</p>"
      ]
    },
    {
      "cell_type": "markdown",
      "metadata": {
        "id": "jvNwzBSUh3LM",
        "colab_type": "text"
      },
      "source": [
        "-------------------------------------------\n",
        "Extract and display the rows of repeat Nobel Prize winners.\n",
        "\n",
        "- Use groupby to group nobel by 'full_name'.\n",
        "- Use the filter method to keep only those rows in nobel with winners with 2 or more prizes.\n",
        "\n",
        "#### Note: a test in this task relies on the expected last output of this cell based on the order of the instructions. If this is not the case, you may run into the following error after ten seconds of the cell being processed: \"Your code exceeded the maximum run time permitted.\"\n",
        "\n",
        "--------------------------------------------------------------"
      ]
    },
    {
      "cell_type": "code",
      "metadata": {
        "dc": {
          "key": "45"
        },
        "tags": [
          "sample_code"
        ],
        "id": "1l5x6VS7h3LN",
        "colab_type": "code",
        "colab": {
          "base_uri": "https://localhost:8080/",
          "height": 1000
        },
        "outputId": "c2a550d2-7931-4f5d-d787-434dda183384"
      },
      "source": [
        "# Selecting the laureates that have received 2 or more prizes.\n",
        "nobel2 = nobel.groupby(['full_name'], as_index=False).sum()\n",
        "display(nobel2)\n",
        "\n",
        "nobel = nobel.drop_duplicates(['full_name'])\n",
        "nobel = nobel.reset_index()\n",
        "display(nobel)"
      ],
      "execution_count": 64,
      "outputs": [
        {
          "output_type": "display_data",
          "data": {
            "text/html": [
              "<div>\n",
              "<style scoped>\n",
              "    .dataframe tbody tr th:only-of-type {\n",
              "        vertical-align: middle;\n",
              "    }\n",
              "\n",
              "    .dataframe tbody tr th {\n",
              "        vertical-align: top;\n",
              "    }\n",
              "\n",
              "    .dataframe thead th {\n",
              "        text-align: right;\n",
              "    }\n",
              "</style>\n",
              "<table border=\"1\" class=\"dataframe\">\n",
              "  <thead>\n",
              "    <tr style=\"text-align: right;\">\n",
              "      <th></th>\n",
              "      <th>full_name</th>\n",
              "      <th>year</th>\n",
              "      <th>laureate_id</th>\n",
              "      <th>usa_born_winner</th>\n",
              "      <th>decade</th>\n",
              "      <th>female_winner</th>\n",
              "    </tr>\n",
              "  </thead>\n",
              "  <tbody>\n",
              "    <tr>\n",
              "      <th>0</th>\n",
              "      <td>A. Michael Spence</td>\n",
              "      <td>2001</td>\n",
              "      <td>745</td>\n",
              "      <td>True</td>\n",
              "      <td>21.0</td>\n",
              "      <td>False</td>\n",
              "    </tr>\n",
              "    <tr>\n",
              "      <th>1</th>\n",
              "      <td>Aage Niels Bohr</td>\n",
              "      <td>1975</td>\n",
              "      <td>102</td>\n",
              "      <td>False</td>\n",
              "      <td>20.0</td>\n",
              "      <td>False</td>\n",
              "    </tr>\n",
              "    <tr>\n",
              "      <th>2</th>\n",
              "      <td>Aaron Ciechanover</td>\n",
              "      <td>2004</td>\n",
              "      <td>779</td>\n",
              "      <td>False</td>\n",
              "      <td>21.0</td>\n",
              "      <td>False</td>\n",
              "    </tr>\n",
              "    <tr>\n",
              "      <th>3</th>\n",
              "      <td>Aaron Klug</td>\n",
              "      <td>1982</td>\n",
              "      <td>259</td>\n",
              "      <td>False</td>\n",
              "      <td>20.0</td>\n",
              "      <td>False</td>\n",
              "    </tr>\n",
              "    <tr>\n",
              "      <th>4</th>\n",
              "      <td>Abdus Salam</td>\n",
              "      <td>1979</td>\n",
              "      <td>114</td>\n",
              "      <td>False</td>\n",
              "      <td>20.0</td>\n",
              "      <td>False</td>\n",
              "    </tr>\n",
              "    <tr>\n",
              "      <th>...</th>\n",
              "      <td>...</td>\n",
              "      <td>...</td>\n",
              "      <td>...</td>\n",
              "      <td>...</td>\n",
              "      <td>...</td>\n",
              "      <td>...</td>\n",
              "    </tr>\n",
              "    <tr>\n",
              "      <th>899</th>\n",
              "      <td>Youyou Tu</td>\n",
              "      <td>2015</td>\n",
              "      <td>918</td>\n",
              "      <td>False</td>\n",
              "      <td>21.0</td>\n",
              "      <td>True</td>\n",
              "    </tr>\n",
              "    <tr>\n",
              "      <th>900</th>\n",
              "      <td>Yuan T. Lee</td>\n",
              "      <td>1986</td>\n",
              "      <td>265</td>\n",
              "      <td>False</td>\n",
              "      <td>20.0</td>\n",
              "      <td>False</td>\n",
              "    </tr>\n",
              "    <tr>\n",
              "      <th>901</th>\n",
              "      <td>Yves Chauvin</td>\n",
              "      <td>2005</td>\n",
              "      <td>794</td>\n",
              "      <td>False</td>\n",
              "      <td>21.0</td>\n",
              "      <td>False</td>\n",
              "    </tr>\n",
              "    <tr>\n",
              "      <th>902</th>\n",
              "      <td>Zhores I. Alferov</td>\n",
              "      <td>2000</td>\n",
              "      <td>726</td>\n",
              "      <td>False</td>\n",
              "      <td>21.0</td>\n",
              "      <td>False</td>\n",
              "    </tr>\n",
              "    <tr>\n",
              "      <th>903</th>\n",
              "      <td>Élie Ducommun</td>\n",
              "      <td>1902</td>\n",
              "      <td>464</td>\n",
              "      <td>False</td>\n",
              "      <td>20.0</td>\n",
              "      <td>False</td>\n",
              "    </tr>\n",
              "  </tbody>\n",
              "</table>\n",
              "<p>904 rows × 6 columns</p>\n",
              "</div>"
            ],
            "text/plain": [
              "             full_name  year  ...  decade  female_winner\n",
              "0    A. Michael Spence  2001  ...    21.0          False\n",
              "1      Aage Niels Bohr  1975  ...    20.0          False\n",
              "2    Aaron Ciechanover  2004  ...    21.0          False\n",
              "3           Aaron Klug  1982  ...    20.0          False\n",
              "4          Abdus Salam  1979  ...    20.0          False\n",
              "..                 ...   ...  ...     ...            ...\n",
              "899          Youyou Tu  2015  ...    21.0           True\n",
              "900        Yuan T. Lee  1986  ...    20.0          False\n",
              "901       Yves Chauvin  2005  ...    21.0          False\n",
              "902  Zhores I. Alferov  2000  ...    21.0          False\n",
              "903      Élie Ducommun  1902  ...    20.0          False\n",
              "\n",
              "[904 rows x 6 columns]"
            ]
          },
          "metadata": {
            "tags": []
          }
        },
        {
          "output_type": "display_data",
          "data": {
            "text/html": [
              "<div>\n",
              "<style scoped>\n",
              "    .dataframe tbody tr th:only-of-type {\n",
              "        vertical-align: middle;\n",
              "    }\n",
              "\n",
              "    .dataframe tbody tr th {\n",
              "        vertical-align: top;\n",
              "    }\n",
              "\n",
              "    .dataframe thead th {\n",
              "        text-align: right;\n",
              "    }\n",
              "</style>\n",
              "<table border=\"1\" class=\"dataframe\">\n",
              "  <thead>\n",
              "    <tr style=\"text-align: right;\">\n",
              "      <th></th>\n",
              "      <th>index</th>\n",
              "      <th>year</th>\n",
              "      <th>category</th>\n",
              "      <th>prize</th>\n",
              "      <th>motivation</th>\n",
              "      <th>prize_share</th>\n",
              "      <th>laureate_id</th>\n",
              "      <th>laureate_type</th>\n",
              "      <th>full_name</th>\n",
              "      <th>birth_date</th>\n",
              "      <th>birth_city</th>\n",
              "      <th>birth_country</th>\n",
              "      <th>sex</th>\n",
              "      <th>organization_name</th>\n",
              "      <th>organization_city</th>\n",
              "      <th>organization_country</th>\n",
              "      <th>death_date</th>\n",
              "      <th>death_city</th>\n",
              "      <th>death_country</th>\n",
              "      <th>usa_born_winner</th>\n",
              "      <th>decade</th>\n",
              "      <th>female_winner</th>\n",
              "    </tr>\n",
              "  </thead>\n",
              "  <tbody>\n",
              "    <tr>\n",
              "      <th>0</th>\n",
              "      <td>0</td>\n",
              "      <td>1901</td>\n",
              "      <td>Chemistry</td>\n",
              "      <td>The Nobel Prize in Chemistry 1901</td>\n",
              "      <td>\"in recognition of the extraordinary services ...</td>\n",
              "      <td>1/1</td>\n",
              "      <td>160</td>\n",
              "      <td>Individual</td>\n",
              "      <td>Jacobus Henricus van 't Hoff</td>\n",
              "      <td>1852-08-30</td>\n",
              "      <td>Rotterdam</td>\n",
              "      <td>Netherlands</td>\n",
              "      <td>Male</td>\n",
              "      <td>Berlin University</td>\n",
              "      <td>Berlin</td>\n",
              "      <td>Germany</td>\n",
              "      <td>1911-03-01</td>\n",
              "      <td>Berlin</td>\n",
              "      <td>Germany</td>\n",
              "      <td>False</td>\n",
              "      <td>20.0</td>\n",
              "      <td>False</td>\n",
              "    </tr>\n",
              "    <tr>\n",
              "      <th>1</th>\n",
              "      <td>1</td>\n",
              "      <td>1901</td>\n",
              "      <td>Literature</td>\n",
              "      <td>The Nobel Prize in Literature 1901</td>\n",
              "      <td>\"in special recognition of his poetic composit...</td>\n",
              "      <td>1/1</td>\n",
              "      <td>569</td>\n",
              "      <td>Individual</td>\n",
              "      <td>Sully Prudhomme</td>\n",
              "      <td>1839-03-16</td>\n",
              "      <td>Paris</td>\n",
              "      <td>France</td>\n",
              "      <td>Male</td>\n",
              "      <td>NaN</td>\n",
              "      <td>NaN</td>\n",
              "      <td>NaN</td>\n",
              "      <td>1907-09-07</td>\n",
              "      <td>Châtenay</td>\n",
              "      <td>France</td>\n",
              "      <td>False</td>\n",
              "      <td>20.0</td>\n",
              "      <td>False</td>\n",
              "    </tr>\n",
              "    <tr>\n",
              "      <th>2</th>\n",
              "      <td>2</td>\n",
              "      <td>1901</td>\n",
              "      <td>Medicine</td>\n",
              "      <td>The Nobel Prize in Physiology or Medicine 1901</td>\n",
              "      <td>\"for his work on serum therapy, especially its...</td>\n",
              "      <td>1/1</td>\n",
              "      <td>293</td>\n",
              "      <td>Individual</td>\n",
              "      <td>Emil Adolf von Behring</td>\n",
              "      <td>1854-03-15</td>\n",
              "      <td>Hansdorf (Lawice)</td>\n",
              "      <td>Prussia (Poland)</td>\n",
              "      <td>Male</td>\n",
              "      <td>Marburg University</td>\n",
              "      <td>Marburg</td>\n",
              "      <td>Germany</td>\n",
              "      <td>1917-03-31</td>\n",
              "      <td>Marburg</td>\n",
              "      <td>Germany</td>\n",
              "      <td>False</td>\n",
              "      <td>20.0</td>\n",
              "      <td>False</td>\n",
              "    </tr>\n",
              "    <tr>\n",
              "      <th>3</th>\n",
              "      <td>3</td>\n",
              "      <td>1901</td>\n",
              "      <td>Peace</td>\n",
              "      <td>The Nobel Peace Prize 1901</td>\n",
              "      <td>NaN</td>\n",
              "      <td>1/2</td>\n",
              "      <td>462</td>\n",
              "      <td>Individual</td>\n",
              "      <td>Jean Henry Dunant</td>\n",
              "      <td>1828-05-08</td>\n",
              "      <td>Geneva</td>\n",
              "      <td>Switzerland</td>\n",
              "      <td>Male</td>\n",
              "      <td>NaN</td>\n",
              "      <td>NaN</td>\n",
              "      <td>NaN</td>\n",
              "      <td>1910-10-30</td>\n",
              "      <td>Heiden</td>\n",
              "      <td>Switzerland</td>\n",
              "      <td>False</td>\n",
              "      <td>20.0</td>\n",
              "      <td>False</td>\n",
              "    </tr>\n",
              "    <tr>\n",
              "      <th>4</th>\n",
              "      <td>4</td>\n",
              "      <td>1901</td>\n",
              "      <td>Peace</td>\n",
              "      <td>The Nobel Peace Prize 1901</td>\n",
              "      <td>NaN</td>\n",
              "      <td>1/2</td>\n",
              "      <td>463</td>\n",
              "      <td>Individual</td>\n",
              "      <td>Frédéric Passy</td>\n",
              "      <td>1822-05-20</td>\n",
              "      <td>Paris</td>\n",
              "      <td>France</td>\n",
              "      <td>Male</td>\n",
              "      <td>NaN</td>\n",
              "      <td>NaN</td>\n",
              "      <td>NaN</td>\n",
              "      <td>1912-06-12</td>\n",
              "      <td>Paris</td>\n",
              "      <td>France</td>\n",
              "      <td>False</td>\n",
              "      <td>20.0</td>\n",
              "      <td>False</td>\n",
              "    </tr>\n",
              "    <tr>\n",
              "      <th>...</th>\n",
              "      <td>...</td>\n",
              "      <td>...</td>\n",
              "      <td>...</td>\n",
              "      <td>...</td>\n",
              "      <td>...</td>\n",
              "      <td>...</td>\n",
              "      <td>...</td>\n",
              "      <td>...</td>\n",
              "      <td>...</td>\n",
              "      <td>...</td>\n",
              "      <td>...</td>\n",
              "      <td>...</td>\n",
              "      <td>...</td>\n",
              "      <td>...</td>\n",
              "      <td>...</td>\n",
              "      <td>...</td>\n",
              "      <td>...</td>\n",
              "      <td>...</td>\n",
              "      <td>...</td>\n",
              "      <td>...</td>\n",
              "      <td>...</td>\n",
              "      <td>...</td>\n",
              "    </tr>\n",
              "    <tr>\n",
              "      <th>899</th>\n",
              "      <td>906</td>\n",
              "      <td>2016</td>\n",
              "      <td>Medicine</td>\n",
              "      <td>The Nobel Prize in Physiology or Medicine 2016</td>\n",
              "      <td>\"for his discoveries of mechanisms for autophagy\"</td>\n",
              "      <td>1/1</td>\n",
              "      <td>927</td>\n",
              "      <td>Individual</td>\n",
              "      <td>Yoshinori Ohsumi</td>\n",
              "      <td>1945-02-09</td>\n",
              "      <td>Fukuoka</td>\n",
              "      <td>Japan</td>\n",
              "      <td>Male</td>\n",
              "      <td>Tokyo Institute of Technology</td>\n",
              "      <td>Tokyo</td>\n",
              "      <td>Japan</td>\n",
              "      <td>NaN</td>\n",
              "      <td>NaN</td>\n",
              "      <td>NaN</td>\n",
              "      <td>False</td>\n",
              "      <td>21.0</td>\n",
              "      <td>False</td>\n",
              "    </tr>\n",
              "    <tr>\n",
              "      <th>900</th>\n",
              "      <td>907</td>\n",
              "      <td>2016</td>\n",
              "      <td>Peace</td>\n",
              "      <td>The Nobel Peace Prize 2016</td>\n",
              "      <td>\"for his resolute efforts to bring the country...</td>\n",
              "      <td>1/1</td>\n",
              "      <td>934</td>\n",
              "      <td>Individual</td>\n",
              "      <td>Juan Manuel Santos</td>\n",
              "      <td>1951-08-10</td>\n",
              "      <td>Bogotá</td>\n",
              "      <td>Colombia</td>\n",
              "      <td>Male</td>\n",
              "      <td>NaN</td>\n",
              "      <td>NaN</td>\n",
              "      <td>NaN</td>\n",
              "      <td>NaN</td>\n",
              "      <td>NaN</td>\n",
              "      <td>NaN</td>\n",
              "      <td>False</td>\n",
              "      <td>21.0</td>\n",
              "      <td>False</td>\n",
              "    </tr>\n",
              "    <tr>\n",
              "      <th>901</th>\n",
              "      <td>908</td>\n",
              "      <td>2016</td>\n",
              "      <td>Physics</td>\n",
              "      <td>The Nobel Prize in Physics 2016</td>\n",
              "      <td>\"for theoretical discoveries of topological ph...</td>\n",
              "      <td>1/2</td>\n",
              "      <td>928</td>\n",
              "      <td>Individual</td>\n",
              "      <td>David J. Thouless</td>\n",
              "      <td>1934-09-21</td>\n",
              "      <td>Bearsden</td>\n",
              "      <td>United Kingdom</td>\n",
              "      <td>Male</td>\n",
              "      <td>University of Washington</td>\n",
              "      <td>Seattle, WA</td>\n",
              "      <td>United States of America</td>\n",
              "      <td>NaN</td>\n",
              "      <td>NaN</td>\n",
              "      <td>NaN</td>\n",
              "      <td>False</td>\n",
              "      <td>21.0</td>\n",
              "      <td>False</td>\n",
              "    </tr>\n",
              "    <tr>\n",
              "      <th>902</th>\n",
              "      <td>909</td>\n",
              "      <td>2016</td>\n",
              "      <td>Physics</td>\n",
              "      <td>The Nobel Prize in Physics 2016</td>\n",
              "      <td>\"for theoretical discoveries of topological ph...</td>\n",
              "      <td>1/4</td>\n",
              "      <td>929</td>\n",
              "      <td>Individual</td>\n",
              "      <td>F. Duncan M. Haldane</td>\n",
              "      <td>1951-09-14</td>\n",
              "      <td>London</td>\n",
              "      <td>United Kingdom</td>\n",
              "      <td>Male</td>\n",
              "      <td>Princeton University</td>\n",
              "      <td>Princeton, NJ</td>\n",
              "      <td>United States of America</td>\n",
              "      <td>NaN</td>\n",
              "      <td>NaN</td>\n",
              "      <td>NaN</td>\n",
              "      <td>False</td>\n",
              "      <td>21.0</td>\n",
              "      <td>False</td>\n",
              "    </tr>\n",
              "    <tr>\n",
              "      <th>903</th>\n",
              "      <td>910</td>\n",
              "      <td>2016</td>\n",
              "      <td>Physics</td>\n",
              "      <td>The Nobel Prize in Physics 2016</td>\n",
              "      <td>\"for theoretical discoveries of topological ph...</td>\n",
              "      <td>1/4</td>\n",
              "      <td>930</td>\n",
              "      <td>Individual</td>\n",
              "      <td>J. Michael Kosterlitz</td>\n",
              "      <td>1943-06-22</td>\n",
              "      <td>Aberdeen</td>\n",
              "      <td>United Kingdom</td>\n",
              "      <td>Male</td>\n",
              "      <td>Brown University</td>\n",
              "      <td>Providence, RI</td>\n",
              "      <td>United States of America</td>\n",
              "      <td>NaN</td>\n",
              "      <td>NaN</td>\n",
              "      <td>NaN</td>\n",
              "      <td>False</td>\n",
              "      <td>21.0</td>\n",
              "      <td>False</td>\n",
              "    </tr>\n",
              "  </tbody>\n",
              "</table>\n",
              "<p>904 rows × 22 columns</p>\n",
              "</div>"
            ],
            "text/plain": [
              "     index  year    category  ... usa_born_winner decade female_winner\n",
              "0        0  1901   Chemistry  ...           False   20.0         False\n",
              "1        1  1901  Literature  ...           False   20.0         False\n",
              "2        2  1901    Medicine  ...           False   20.0         False\n",
              "3        3  1901       Peace  ...           False   20.0         False\n",
              "4        4  1901       Peace  ...           False   20.0         False\n",
              "..     ...   ...         ...  ...             ...    ...           ...\n",
              "899    906  2016    Medicine  ...           False   21.0         False\n",
              "900    907  2016       Peace  ...           False   21.0         False\n",
              "901    908  2016     Physics  ...           False   21.0         False\n",
              "902    909  2016     Physics  ...           False   21.0         False\n",
              "903    910  2016     Physics  ...           False   21.0         False\n",
              "\n",
              "[904 rows x 22 columns]"
            ]
          },
          "metadata": {
            "tags": []
          }
        }
      ]
    },
    {
      "cell_type": "markdown",
      "metadata": {
        "dc": {
          "key": "52"
        },
        "deletable": false,
        "editable": false,
        "run_control": {
          "frozen": true
        },
        "tags": [
          "context"
        ],
        "id": "dNIGwos1h3LR",
        "colab_type": "text"
      },
      "source": [
        "## 8. How old are you when you get the prize?\n",
        "<p>The list of repeat winners contains some illustrious names! We again meet Marie Curie, who got the prize in physics for discovering radiation and in chemistry for isolating radium and polonium. John Bardeen got it twice in physics for transistors and superconductivity, Frederick Sanger got it twice in chemistry, and Linus Carl Pauling got it first in chemistry and later in peace for his work in promoting nuclear disarmament. We also learn that organizations also get the prize as both the Red Cross and the UNHCR have gotten it twice.</p>\n",
        "<p>But how old are you generally when you get the prize?</p>"
      ]
    },
    {
      "cell_type": "markdown",
      "metadata": {
        "id": "cBN0xC9Fh3LS",
        "colab_type": "text"
      },
      "source": [
        "------------------------------------------\n",
        "\n",
        "Calculate and plot the age of each winner when they won their Nobel Prize.\n",
        "\n",
        "- Convert the nobel['birth_date'] column to datetime using pd.to_datetime.\n",
        "- Add a new column nobel['age'] that contains the age of each winner when they got the prize. That is, year of prize win minus birth year.\n",
        "- Use sns.lmplot (not sns.lineplot) to make a plot with year on the x-axis and age on the y-axis.\n",
        "\n",
        "#### Note: a test in this task relies on the expected last output of this cell based on the order of the instructions. If this is not the case, you may run into the following error after ten seconds of the cell being processed: \"Your code exceeded the maximum run time permitted.\"\n",
        "\n",
        "To get the year from a datetime column you need to use access the dt.year value. Here is an example:\n",
        "##### a_data_frame['a_datatime_column'].dt.year\n",
        "\n",
        "Seaborn's lmplot is a 2D scatterplot with an optional overlaid regression line. This type of plot is useful for visualizing linear relationships.\n",
        "\n",
        "To make the plot prettier, add the arguments \n",
        "##### lowess=True, aspect=2, and line_kws={'color' : 'black'}."
      ]
    },
    {
      "cell_type": "code",
      "metadata": {
        "dc": {
          "key": "52"
        },
        "tags": [
          "sample_code"
        ],
        "id": "k1epf9VDh3LU",
        "colab_type": "code",
        "colab": {
          "base_uri": "https://localhost:8080/",
          "height": 383
        },
        "outputId": "a4368152-4750-4406-bbb5-4b393274c68b"
      },
      "source": [
        "# Converting birth_date from String to datetime\n",
        "nobel['birth_date'] = pd.to_datetime(nobel['birth_date'], format='%Y-%m-%d')\n",
        "\n",
        "# Calculating the age of Nobel Prize winners\n",
        "nobel['age'] = nobel['year'] - nobel['birth_date'].dt.year\n",
        "\n",
        "# Plotting the age of Nobel Prize winners\n",
        "sns.lmplot(x='year', y='age', data = nobel,lowess=True, aspect=2, line_kws={'color' : 'black'})\n"
      ],
      "execution_count": 77,
      "outputs": [
        {
          "output_type": "execute_result",
          "data": {
            "text/plain": [
              "<seaborn.axisgrid.FacetGrid at 0x7fd413230b70>"
            ]
          },
          "metadata": {
            "tags": []
          },
          "execution_count": 77
        },
        {
          "output_type": "display_data",
          "data": {
            "image/png": "[encoded data removed]",
            "text/plain": [
              "<Figure size 720x360 with 1 Axes>"
            ]
          },
          "metadata": {
            "tags": []
          }
        }
      ]
    },
    {
      "cell_type": "markdown",
      "metadata": {
        "dc": {
          "key": "59"
        },
        "deletable": false,
        "editable": false,
        "run_control": {
          "frozen": true
        },
        "tags": [
          "context"
        ],
        "id": "T682uguPh3LY",
        "colab_type": "text"
      },
      "source": [
        "## 9. Age differences between prize categories\n",
        "<p>The plot above shows us a lot! We see that people use to be around 55 when they received the price, but nowadays the average is closer to 65. But there is a large spread in the laureates' ages, and while most are 50+, some are very young.</p>\n",
        "<p>We also see that the density of points is much high nowadays than in the early 1900s -- nowadays many more of the prizes are shared, and so there are many more winners. We also see that there was a disruption in awarded prizes around the Second World War (1939 - 1945). </p>\n",
        "<p>Let's look at age trends within different prize categories.</p>"
      ]
    },
    {
      "cell_type": "markdown",
      "metadata": {
        "id": "8FslrMR1h3LZ",
        "colab_type": "text"
      },
      "source": [
        "--------------------------------------------\n",
        "Plot how old winners are within the different price categories.\n",
        "\n",
        "- As before, use sns.lmplot to make a plot with year on the x-axis and age on the y-axis. But this time, make one plot per prize category by setting the row argument to 'category'.\n",
        "\n",
        "#### Note: a test in this task relies on the expected last output of this cell based on the order of the instructions. If this is not the case, you may run into the following error after ten seconds of the cell being processed: \"Your code exceeded the maximum run time permitted.\"\n",
        "\n",
        "--------------------------------"
      ]
    },
    {
      "cell_type": "code",
      "metadata": {
        "dc": {
          "key": "59"
        },
        "tags": [
          "sample_code"
        ],
        "id": "mTIisfeah3La",
        "colab_type": "code",
        "colab": {
          "base_uri": "https://localhost:8080/",
          "height": 383
        },
        "outputId": "45f89568-e705-4bcb-eeff-bbb70e3d3aa6"
      },
      "source": [
        "# Same plot as above, but faceted by the category of the Nobel Prize\n",
        "sns.lmplot(x='year', y='age', hue='category', data = nobel,lowess=True, aspect=2)"
      ],
      "execution_count": 79,
      "outputs": [
        {
          "output_type": "execute_result",
          "data": {
            "text/plain": [
              "<seaborn.axisgrid.FacetGrid at 0x7fd413002a58>"
            ]
          },
          "metadata": {
            "tags": []
          },
          "execution_count": 79
        },
        {
          "output_type": "display_data",
          "data": {
            "image/png": "[encoded data removed]",
            "text/plain": [
              "<Figure size 818.975x360 with 1 Axes>"
            ]
          },
          "metadata": {
            "tags": []
          }
        }
      ]
    },
    {
      "cell_type": "markdown",
      "metadata": {
        "dc": {
          "key": "66"
        },
        "deletable": false,
        "editable": false,
        "run_control": {
          "frozen": true
        },
        "tags": [
          "context"
        ],
        "id": "1yVM0v-mh3Lf",
        "colab_type": "text"
      },
      "source": [
        "## 10. Oldest and youngest winners\n",
        "<p>More plots with lots of exciting stuff going on! We see that both winners of the chemistry, medicine, and physics prize have gotten older over time. The trend is strongest for physics: the average age used to be below 50, and now it's almost 70. Literature and economics are more stable. We also see that economics is a newer category. But peace shows an opposite trend where winners are getting younger! </p>\n",
        "<p>In the peace category we also a winner around 2010 that seems exceptionally young. This begs the questions, who are the oldest and youngest people ever to have won a Nobel Prize?</p>"
      ]
    },
    {
      "cell_type": "markdown",
      "metadata": {
        "id": "zlLWj3MVh3Lf",
        "colab_type": "text"
      },
      "source": [
        "-----------------------\n",
        "Pick out the rows of the oldest and the youngest winner of a Nobel Prize.\n",
        "\n",
        "- Use nlargest() to pick out and display the row of the oldest winner.\n",
        "- Use nsmallest() to pick out and display the row of the youngest winner.\n",
        "\n",
        "#### Note: a test in this task relies on the expected last output of this cell based on the order of the instructions. If this is not the case, you may run into the following error after ten seconds of the cell being processed: \"Your code exceeded the maximum run time permitted.\"\n",
        "\n",
        "---------------------"
      ]
    },
    {
      "cell_type": "code",
      "metadata": {
        "dc": {
          "key": "66"
        },
        "tags": [
          "sample_code"
        ],
        "id": "HIouZRnfh3Lg",
        "colab_type": "code",
        "colab": {
          "base_uri": "https://localhost:8080/",
          "height": 316
        },
        "outputId": "51b9113b-4340-40e8-e6ed-00b550274472"
      },
      "source": [
        "# The oldest winner of a Nobel Prize as of 2016\n",
        "old = nobel.nlargest(1, 'age')\n",
        "display(old)\n",
        "\n",
        "# The youngest winner of a Nobel Prize as of 2016\n",
        "young = nobel.nsmallest(1, 'age')\n",
        "display(young)"
      ],
      "execution_count": 83,
      "outputs": [
        {
          "output_type": "display_data",
          "data": {
            "text/html": [
              "<div>\n",
              "<style scoped>\n",
              "    .dataframe tbody tr th:only-of-type {\n",
              "        vertical-align: middle;\n",
              "    }\n",
              "\n",
              "    .dataframe tbody tr th {\n",
              "        vertical-align: top;\n",
              "    }\n",
              "\n",
              "    .dataframe thead th {\n",
              "        text-align: right;\n",
              "    }\n",
              "</style>\n",
              "<table border=\"1\" class=\"dataframe\">\n",
              "  <thead>\n",
              "    <tr style=\"text-align: right;\">\n",
              "      <th></th>\n",
              "      <th>index</th>\n",
              "      <th>year</th>\n",
              "      <th>category</th>\n",
              "      <th>prize</th>\n",
              "      <th>motivation</th>\n",
              "      <th>prize_share</th>\n",
              "      <th>laureate_id</th>\n",
              "      <th>laureate_type</th>\n",
              "      <th>full_name</th>\n",
              "      <th>birth_date</th>\n",
              "      <th>birth_city</th>\n",
              "      <th>birth_country</th>\n",
              "      <th>sex</th>\n",
              "      <th>organization_name</th>\n",
              "      <th>organization_city</th>\n",
              "      <th>organization_country</th>\n",
              "      <th>death_date</th>\n",
              "      <th>death_city</th>\n",
              "      <th>death_country</th>\n",
              "      <th>usa_born_winner</th>\n",
              "      <th>decade</th>\n",
              "      <th>female_winner</th>\n",
              "      <th>age</th>\n",
              "      <th>birth_year</th>\n",
              "    </tr>\n",
              "  </thead>\n",
              "  <tbody>\n",
              "    <tr>\n",
              "      <th>786</th>\n",
              "      <td>793</td>\n",
              "      <td>2007</td>\n",
              "      <td>Economics</td>\n",
              "      <td>The Sveriges Riksbank Prize in Economic Scienc...</td>\n",
              "      <td>\"for having laid the foundations of mechanism ...</td>\n",
              "      <td>1/3</td>\n",
              "      <td>820</td>\n",
              "      <td>Individual</td>\n",
              "      <td>Leonid Hurwicz</td>\n",
              "      <td>1917-08-21</td>\n",
              "      <td>Moscow</td>\n",
              "      <td>Russia</td>\n",
              "      <td>Male</td>\n",
              "      <td>University of Minnesota</td>\n",
              "      <td>Minneapolis, MN</td>\n",
              "      <td>United States of America</td>\n",
              "      <td>2008-06-24</td>\n",
              "      <td>Minneapolis, MN</td>\n",
              "      <td>United States of America</td>\n",
              "      <td>False</td>\n",
              "      <td>21.0</td>\n",
              "      <td>False</td>\n",
              "      <td>90.0</td>\n",
              "      <td>1917.0</td>\n",
              "    </tr>\n",
              "  </tbody>\n",
              "</table>\n",
              "</div>"
            ],
            "text/plain": [
              "     index  year   category  ... female_winner   age birth_year\n",
              "786    793  2007  Economics  ...         False  90.0     1917.0\n",
              "\n",
              "[1 rows x 24 columns]"
            ]
          },
          "metadata": {
            "tags": []
          }
        },
        {
          "output_type": "display_data",
          "data": {
            "text/html": [
              "<div>\n",
              "<style scoped>\n",
              "    .dataframe tbody tr th:only-of-type {\n",
              "        vertical-align: middle;\n",
              "    }\n",
              "\n",
              "    .dataframe tbody tr th {\n",
              "        vertical-align: top;\n",
              "    }\n",
              "\n",
              "    .dataframe thead th {\n",
              "        text-align: right;\n",
              "    }\n",
              "</style>\n",
              "<table border=\"1\" class=\"dataframe\">\n",
              "  <thead>\n",
              "    <tr style=\"text-align: right;\">\n",
              "      <th></th>\n",
              "      <th>index</th>\n",
              "      <th>year</th>\n",
              "      <th>category</th>\n",
              "      <th>prize</th>\n",
              "      <th>motivation</th>\n",
              "      <th>prize_share</th>\n",
              "      <th>laureate_id</th>\n",
              "      <th>laureate_type</th>\n",
              "      <th>full_name</th>\n",
              "      <th>birth_date</th>\n",
              "      <th>birth_city</th>\n",
              "      <th>birth_country</th>\n",
              "      <th>sex</th>\n",
              "      <th>organization_name</th>\n",
              "      <th>organization_city</th>\n",
              "      <th>organization_country</th>\n",
              "      <th>death_date</th>\n",
              "      <th>death_city</th>\n",
              "      <th>death_country</th>\n",
              "      <th>usa_born_winner</th>\n",
              "      <th>decade</th>\n",
              "      <th>female_winner</th>\n",
              "      <th>age</th>\n",
              "      <th>birth_year</th>\n",
              "    </tr>\n",
              "  </thead>\n",
              "  <tbody>\n",
              "    <tr>\n",
              "      <th>878</th>\n",
              "      <td>885</td>\n",
              "      <td>2014</td>\n",
              "      <td>Peace</td>\n",
              "      <td>The Nobel Peace Prize 2014</td>\n",
              "      <td>\"for their struggle against the suppression of...</td>\n",
              "      <td>1/2</td>\n",
              "      <td>914</td>\n",
              "      <td>Individual</td>\n",
              "      <td>Malala Yousafzai</td>\n",
              "      <td>1997-07-12</td>\n",
              "      <td>Mingora</td>\n",
              "      <td>Pakistan</td>\n",
              "      <td>Female</td>\n",
              "      <td>NaN</td>\n",
              "      <td>NaN</td>\n",
              "      <td>NaN</td>\n",
              "      <td>NaN</td>\n",
              "      <td>NaN</td>\n",
              "      <td>NaN</td>\n",
              "      <td>False</td>\n",
              "      <td>21.0</td>\n",
              "      <td>True</td>\n",
              "      <td>17.0</td>\n",
              "      <td>1997.0</td>\n",
              "    </tr>\n",
              "  </tbody>\n",
              "</table>\n",
              "</div>"
            ],
            "text/plain": [
              "     index  year category  ... female_winner   age birth_year\n",
              "878    885  2014    Peace  ...          True  17.0     1997.0\n",
              "\n",
              "[1 rows x 24 columns]"
            ]
          },
          "metadata": {
            "tags": []
          }
        }
      ]
    },
    {
      "cell_type": "markdown",
      "metadata": {
        "dc": {
          "key": "73"
        },
        "deletable": false,
        "editable": false,
        "run_control": {
          "frozen": true
        },
        "tags": [
          "context"
        ],
        "id": "W1tDpS3wh3Ll",
        "colab_type": "text"
      },
      "source": [
        "## 11. You get a prize!\n",
        "<p><img style=\"float: right;margin:20px 20px 20px 20px; max-width:200px\" src=\"https://assets.datacamp.com/production/project_441/img/paint_nobel_prize.png\"></p>\n",
        "<p>Hey! You get a prize for making it to the very end of this notebook! It might not be a Nobel Prize, but I made it myself in paint so it should count for something. But don't despair, Leonid Hurwicz was 90 years old when he got his prize, so it might not be too late for you. Who knows.</p>\n",
        "<p>Before you leave, what was again the name of the youngest winner ever who in 2014 got the prize for \"[her] struggle against the suppression of children and young people and for the right of all children to education\"?</p>"
      ]
    },
    {
      "cell_type": "markdown",
      "metadata": {
        "id": "o_sLEJ4Yh3Lm",
        "colab_type": "text"
      },
      "source": [
        "---------------------\n",
        "Assign the name of the youngest winner of a Nobel Prize to youngest_winner. The first name will suffice.\n",
        "\n",
        "--------------------------------------"
      ]
    },
    {
      "cell_type": "code",
      "metadata": {
        "dc": {
          "key": "73"
        },
        "tags": [
          "sample_code"
        ],
        "id": "14JG6JP0h3Ln",
        "colab_type": "code",
        "colab": {
          "base_uri": "https://localhost:8080/",
          "height": 35
        },
        "outputId": "abe2b3e9-2d7f-45d4-f5f1-9e51cac86f1f"
      },
      "source": [
        "# The name of the youngest winner of the Nobel Prize as of 2016\n",
        "df = nobel\n",
        "df = df[nobel['motivation'] == \"for her struggle against the suppression of children and young people and for the right of all children to education\"]\n",
        "youngest_winner = df.nsmallest(1, 'age')['full_name']\n",
        "print(youngest_winner)"
      ],
      "execution_count": 90,
      "outputs": [
        {
          "output_type": "stream",
          "text": [
            "Series([], Name: full_name, dtype: object)\n"
          ],
          "name": "stdout"
        }
      ]
    },
    {
      "cell_type": "code",
      "metadata": {
        "id": "nIuvxf_KNjS8",
        "colab_type": "code",
        "colab": {}
      },
      "source": [
        ""
      ],
      "execution_count": null,
      "outputs": []
    }
  ]
}