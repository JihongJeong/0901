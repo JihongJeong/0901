{
  "nbformat": 4,
  "nbformat_minor": 0,
  "metadata": {
    "kernelspec": {
      "display_name": "Python 3",
      "language": "python",
      "name": "python3"
    },
    "language_info": {
      "codemirror_mode": {
        "name": "ipython",
        "version": 3
      },
      "file_extension": ".py",
      "mimetype": "text/x-python",
      "name": "python",
      "nbconvert_exporter": "python",
      "pygments_lexer": "ipython3",
      "version": "3.8.5"
    },
    "colab": {
      "name": "Numpy_Homework1_JihongJeong.ipynb",
      "provenance": [],
      "collapsed_sections": []
    }
  },
  "cells": [
    {
      "cell_type": "markdown",
      "metadata": {
        "id": "l-4sneIR3TvR",
        "colab_type": "text"
      },
      "source": [
        "# Homework 1 - Numpy"
      ]
    },
    {
      "cell_type": "markdown",
      "metadata": {
        "id": "OBf1ezSK3TvS",
        "colab_type": "text"
      },
      "source": [
        "For all the questions, print the results with a variable of your choice (e.g., Z)"
      ]
    },
    {
      "cell_type": "markdown",
      "metadata": {
        "id": "BN67iDgx3TvT",
        "colab_type": "text"
      },
      "source": [
        "#### 1. Import the numpy package under the name `np` "
      ]
    },
    {
      "cell_type": "code",
      "metadata": {
        "id": "Ew-3TBHu3TvT",
        "colab_type": "code",
        "colab": {}
      },
      "source": [
        "import numpy as np"
      ],
      "execution_count": 1,
      "outputs": []
    },
    {
      "cell_type": "markdown",
      "metadata": {
        "id": "6qw0jedl3TvW",
        "colab_type": "text"
      },
      "source": [
        "#### 2. Create a vector with values ranging from 10 to 49 "
      ]
    },
    {
      "cell_type": "code",
      "metadata": {
        "id": "5N3Z2gXM3TvW",
        "colab_type": "code",
        "colab": {
          "base_uri": "https://localhost:8080/",
          "height": 53
        },
        "outputId": "b35c3f00-7b0d-4727-a3eb-ce0c2b337e9f"
      },
      "source": [
        "v = np.arange(10, 50)\n",
        "print(v)"
      ],
      "execution_count": 8,
      "outputs": [
        {
          "output_type": "stream",
          "text": [
            "[10 11 12 13 14 15 16 17 18 19 20 21 22 23 24 25 26 27 28 29 30 31 32 33\n",
            " 34 35 36 37 38 39 40 41 42 43 44 45 46 47 48 49]\n"
          ],
          "name": "stdout"
        }
      ]
    },
    {
      "cell_type": "markdown",
      "metadata": {
        "id": "pP5KF-JD3Tva",
        "colab_type": "text"
      },
      "source": [
        "#### 3. Reverse a vector (first element becomes last) "
      ]
    },
    {
      "cell_type": "code",
      "metadata": {
        "id": "Mf1FoM9M3Tvb",
        "colab_type": "code",
        "colab": {
          "base_uri": "https://localhost:8080/",
          "height": 53
        },
        "outputId": "9b17f073-a90a-4f27-9c97-39ab006d2d50"
      },
      "source": [
        "v = v[::-1]\n",
        "print(v)"
      ],
      "execution_count": 9,
      "outputs": [
        {
          "output_type": "stream",
          "text": [
            "[49 48 47 46 45 44 43 42 41 40 39 38 37 36 35 34 33 32 31 30 29 28 27 26\n",
            " 25 24 23 22 21 20 19 18 17 16 15 14 13 12 11 10]\n"
          ],
          "name": "stdout"
        }
      ]
    },
    {
      "cell_type": "markdown",
      "metadata": {
        "id": "dHJfbVJ13Tve",
        "colab_type": "text"
      },
      "source": [
        "#### 4. Create a 3x3 matrix with values ranging from 0 to 8 "
      ]
    },
    {
      "cell_type": "code",
      "metadata": {
        "id": "1xWxAiLx3Tve",
        "colab_type": "code",
        "colab": {
          "base_uri": "https://localhost:8080/",
          "height": 71
        },
        "outputId": "eb2d3a7b-8115-4b06-e389-3a4daab3ce7f"
      },
      "source": [
        "v2 = np.arange(0, 9).reshape(3, 3)\n",
        "print(v2)"
      ],
      "execution_count": 10,
      "outputs": [
        {
          "output_type": "stream",
          "text": [
            "[[0 1 2]\n",
            " [3 4 5]\n",
            " [6 7 8]]\n"
          ],
          "name": "stdout"
        }
      ]
    },
    {
      "cell_type": "markdown",
      "metadata": {
        "id": "CppFlyCB3Tvh",
        "colab_type": "text"
      },
      "source": [
        "#### 5. Find indices of non-zero elements from [1,2,0,0,4,0] "
      ]
    },
    {
      "cell_type": "code",
      "metadata": {
        "id": "yHnEIccz3Tvh",
        "colab_type": "code",
        "colab": {
          "base_uri": "https://localhost:8080/",
          "height": 35
        },
        "outputId": "d9d8615a-c4c8-49fc-bb6c-aeaf9878ff4e"
      },
      "source": [
        "v3 = [1, 2, 0, 0, 4, 0]\n",
        "np.nonzero(v3)"
      ],
      "execution_count": 24,
      "outputs": [
        {
          "output_type": "execute_result",
          "data": {
            "text/plain": [
              "(array([0, 1, 4]),)"
            ]
          },
          "metadata": {
            "tags": []
          },
          "execution_count": 24
        }
      ]
    },
    {
      "cell_type": "markdown",
      "metadata": {
        "id": "gvyAQAXL3Tvj",
        "colab_type": "text"
      },
      "source": [
        "#### 6. Create a 3x3 identity matrix "
      ]
    },
    {
      "cell_type": "code",
      "metadata": {
        "id": "AFAKPs9h3Tvj",
        "colab_type": "code",
        "colab": {
          "base_uri": "https://localhost:8080/",
          "height": 71
        },
        "outputId": "21563c71-b84d-4f0a-8a9e-96b795fbf10e"
      },
      "source": [
        "vi = np.identity(3)\n",
        "print(vi)"
      ],
      "execution_count": 15,
      "outputs": [
        {
          "output_type": "stream",
          "text": [
            "[[1. 0. 0.]\n",
            " [0. 1. 0.]\n",
            " [0. 0. 1.]]\n"
          ],
          "name": "stdout"
        }
      ]
    },
    {
      "cell_type": "markdown",
      "metadata": {
        "id": "pDj00vcs3Tvm",
        "colab_type": "text"
      },
      "source": [
        "#### 7. Create a 3x3x3 array with random values "
      ]
    },
    {
      "cell_type": "code",
      "metadata": {
        "id": "nRfXbzaU3Tvm",
        "colab_type": "code",
        "colab": {
          "base_uri": "https://localhost:8080/",
          "height": 215
        },
        "outputId": "daf31e8c-9b22-4867-8834-49348f902647"
      },
      "source": [
        "vr = np.random.random((3, 3, 3))\n",
        "print(vr)"
      ],
      "execution_count": 17,
      "outputs": [
        {
          "output_type": "stream",
          "text": [
            "[[[0.40937466 0.17481833 0.03967453]\n",
            "  [0.39334547 0.07943152 0.4228318 ]\n",
            "  [0.32039502 0.70755743 0.35548206]]\n",
            "\n",
            " [[0.42102171 0.28423461 0.65848232]\n",
            "  [0.29503099 0.42929347 0.06351582]\n",
            "  [0.66253396 0.15206139 0.23263111]]\n",
            "\n",
            " [[0.57699447 0.02304744 0.94720231]\n",
            "  [0.30380563 0.13557125 0.24540559]\n",
            "  [0.70139483 0.56343293 0.14597469]]]\n"
          ],
          "name": "stdout"
        }
      ]
    },
    {
      "cell_type": "markdown",
      "metadata": {
        "id": "1Q6Z7Qkg3Tvo",
        "colab_type": "text"
      },
      "source": [
        "#### 8. Create a 10x10 array with random values and find the minimum and maximum values "
      ]
    },
    {
      "cell_type": "code",
      "metadata": {
        "id": "cPi5Vzyb3Tvp",
        "colab_type": "code",
        "colab": {
          "base_uri": "https://localhost:8080/",
          "height": 413
        },
        "outputId": "094da96f-6502-4fe6-e89a-b212948e72dd"
      },
      "source": [
        "vr2 = np.random.random((10, 10))\n",
        "print(vr2)\n",
        "print(\"Minimum :\",vr2.min(),\"\\n\"+\"Maximum :\",vr2.max())"
      ],
      "execution_count": 21,
      "outputs": [
        {
          "output_type": "stream",
          "text": [
            "[[0.99182872 0.72176841 0.05474816 0.79686323 0.32773996 0.90017451\n",
            "  0.54003702 0.14496788 0.76025926 0.61216205]\n",
            " [0.37717726 0.85657329 0.24937107 0.01149052 0.10408999 0.31090902\n",
            "  0.82534672 0.59797941 0.97326286 0.82862059]\n",
            " [0.65252368 0.95565679 0.9066845  0.99535746 0.36796454 0.4111938\n",
            "  0.4302561  0.29817539 0.40453245 0.47828859]\n",
            " [0.49826483 0.20509438 0.79623078 0.47308004 0.7784137  0.85300705\n",
            "  0.540388   0.82207911 0.43180556 0.54653495]\n",
            " [0.50146565 0.43429868 0.99314429 0.06596794 0.33852184 0.32632744\n",
            "  0.23046165 0.55804466 0.85897452 0.61731313]\n",
            " [0.84319787 0.3848168  0.62407935 0.21735583 0.65319745 0.50142083\n",
            "  0.3986201  0.39955665 0.63493772 0.97350579]\n",
            " [0.58687747 0.44284874 0.78913914 0.01278867 0.26149038 0.7543845\n",
            "  0.18529422 0.15609255 0.37781506 0.58791659]\n",
            " [0.84634352 0.1720422  0.01057625 0.49268914 0.53517607 0.7623148\n",
            "  0.3432877  0.48204993 0.55497625 0.86164955]\n",
            " [0.34369311 0.47966317 0.05986196 0.92713692 0.4798477  0.24084855\n",
            "  0.56161446 0.12692402 0.97338674 0.71127432]\n",
            " [0.0714711  0.93562717 0.90177678 0.80927009 0.68996662 0.47506939\n",
            "  0.30957691 0.5448065  0.90701035 0.61242169]]\n",
            "Minimum : 0.01057624844231797 \n",
            "Maximum : 0.9953574586588975\n"
          ],
          "name": "stdout"
        }
      ]
    },
    {
      "cell_type": "markdown",
      "metadata": {
        "id": "xkq-lYIc3Tvr",
        "colab_type": "text"
      },
      "source": [
        "#### 9. Create a checkerboard 8x8 matrix using np.array([0,1],[1,0]) and the tile function  "
      ]
    },
    {
      "cell_type": "code",
      "metadata": {
        "id": "QGOIaaRk3Tvr",
        "colab_type": "code",
        "colab": {
          "base_uri": "https://localhost:8080/",
          "height": 161
        },
        "outputId": "f70153d7-8f44-4da0-af5b-e2a852506d2d"
      },
      "source": [
        "Cb = np.tile(np.array([[0,1], [1, 0]]),(4,4))\n",
        "print(Cb)"
      ],
      "execution_count": 22,
      "outputs": [
        {
          "output_type": "stream",
          "text": [
            "[[0 1 0 1 0 1 0 1]\n",
            " [1 0 1 0 1 0 1 0]\n",
            " [0 1 0 1 0 1 0 1]\n",
            " [1 0 1 0 1 0 1 0]\n",
            " [0 1 0 1 0 1 0 1]\n",
            " [1 0 1 0 1 0 1 0]\n",
            " [0 1 0 1 0 1 0 1]\n",
            " [1 0 1 0 1 0 1 0]]\n"
          ],
          "name": "stdout"
        }
      ]
    },
    {
      "cell_type": "markdown",
      "metadata": {
        "id": "vbLFxoVu3Tvt",
        "colab_type": "text"
      },
      "source": [
        "#### 10. Multiply a 5x3 matrix by a 3x2 matrix (real matrix product) "
      ]
    },
    {
      "cell_type": "code",
      "metadata": {
        "id": "k5soMwqo3Tvu",
        "colab_type": "code",
        "colab": {
          "base_uri": "https://localhost:8080/",
          "height": 251
        },
        "outputId": "aac3cd8c-b86c-4ee4-d9a9-5065f83a1864"
      },
      "source": [
        "A = np.random.random((5, 3))\n",
        "B = np.random.random((3, 2))\n",
        "AB = np.dot(A, B)\n",
        "print(A)\n",
        "print(B)\n",
        "print(AB)"
      ],
      "execution_count": 23,
      "outputs": [
        {
          "output_type": "stream",
          "text": [
            "[[0.58787801 0.15015395 0.37050681]\n",
            " [0.40851286 0.57362725 0.02670172]\n",
            " [0.34853253 0.98268101 0.63290426]\n",
            " [0.24875317 0.03281391 0.88424633]\n",
            " [0.56238242 0.71606073 0.74682693]]\n",
            "[[0.92536878 0.61350385]\n",
            " [0.54495639 0.97919484]\n",
            " [0.83653218 0.74057151]]\n",
            "[[0.93577218 0.78208218]\n",
            " [0.71296372 0.83209159]\n",
            " [1.3874842  1.64477308]\n",
            " [0.98777109 0.83958988]\n",
            " [1.53537776 1.5992655 ]]\n"
          ],
          "name": "stdout"
        }
      ]
    },
    {
      "cell_type": "markdown",
      "metadata": {
        "id": "eadqEvbj3Tvw",
        "colab_type": "text"
      },
      "source": [
        "#### 11. Create a 5x5 matrix with row values ranging from 0 to 4 using tile function as follows:\n"
      ]
    },
    {
      "cell_type": "markdown",
      "metadata": {
        "id": "XE3OJGGa3Tvx",
        "colab_type": "raw"
      },
      "source": [
        "array([[0, 1, 2, 3, 4],\n",
        "       [0, 1, 2, 3, 4],\n",
        "       [0, 1, 2, 3, 4],\n",
        "       [0, 1, 2, 3, 4],\n",
        "       [0, 1, 2, 3, 4]])"
      ]
    },
    {
      "cell_type": "code",
      "metadata": {
        "id": "T7O_Bgrx3Tvx",
        "colab_type": "code",
        "colab": {
          "base_uri": "https://localhost:8080/",
          "height": 107
        },
        "outputId": "e965c76c-4a6b-4395-b9b3-e451e328d405"
      },
      "source": [
        "M = np.tile(np.array([[0, 1, 2, 3, 4], [0, 1, 2, 3, 4], [0, 1, 2, 3, 4], [0, 1, 2, 3, 4], [0, 1, 2, 3, 4]]), (1))\n",
        "print(M)"
      ],
      "execution_count": 27,
      "outputs": [
        {
          "output_type": "stream",
          "text": [
            "[[0 1 2 3 4]\n",
            " [0 1 2 3 4]\n",
            " [0 1 2 3 4]\n",
            " [0 1 2 3 4]\n",
            " [0 1 2 3 4]]\n"
          ],
          "name": "stdout"
        }
      ]
    },
    {
      "cell_type": "markdown",
      "metadata": {
        "id": "DzXpcnjK3Tvz",
        "colab_type": "text"
      },
      "source": [
        "#### 12. Create a 5x5 matrix with row values ranging from 0 to 4 using broadcasting\n"
      ]
    },
    {
      "cell_type": "code",
      "metadata": {
        "id": "n2oixD-63Tvz",
        "colab_type": "code",
        "colab": {
          "base_uri": "https://localhost:8080/",
          "height": 107
        },
        "outputId": "16ca015f-31bf-41c6-e186-7f78c662aa7b"
      },
      "source": [
        "M = np.zeros((5, 5)) + np.arange(5)\n",
        "print(M)"
      ],
      "execution_count": 30,
      "outputs": [
        {
          "output_type": "stream",
          "text": [
            "[[0. 1. 2. 3. 4.]\n",
            " [0. 1. 2. 3. 4.]\n",
            " [0. 1. 2. 3. 4.]\n",
            " [0. 1. 2. 3. 4.]\n",
            " [0. 1. 2. 3. 4.]]\n"
          ],
          "name": "stdout"
        }
      ]
    },
    {
      "cell_type": "markdown",
      "metadata": {
        "id": "pRs5T82S3Tv2",
        "colab_type": "text"
      },
      "source": [
        "#### 13. Create a random vector of size 10 and sort it "
      ]
    },
    {
      "cell_type": "code",
      "metadata": {
        "id": "BHuZqvcB3Tv2",
        "colab_type": "code",
        "colab": {
          "base_uri": "https://localhost:8080/",
          "height": 53
        },
        "outputId": "edbe1395-ead9-4a1c-8184-9bab718587b6"
      },
      "source": [
        "v = np.random.random(10)\n",
        "v.sort()\n",
        "print(v)"
      ],
      "execution_count": 33,
      "outputs": [
        {
          "output_type": "stream",
          "text": [
            "[0.11269702 0.18737065 0.22374381 0.29981864 0.40179483 0.42041854\n",
            " 0.46380338 0.71683827 0.72285456 0.88960696]\n"
          ],
          "name": "stdout"
        }
      ]
    },
    {
      "cell_type": "markdown",
      "metadata": {
        "id": "kQwnIwpK3Tv5",
        "colab_type": "text"
      },
      "source": [
        "#### 14. Subtract the mean of each row\n",
        "\n",
        "X = np.random.rand(5,10)"
      ]
    },
    {
      "cell_type": "code",
      "metadata": {
        "id": "5K8ywGj23Tv5",
        "colab_type": "code",
        "colab": {
          "base_uri": "https://localhost:8080/",
          "height": 53
        },
        "outputId": "e11d1ba6-bcec-4b5e-c97e-cd1cac48cb7b"
      },
      "source": [
        "X = np.random.rand(5,10)\n",
        "Xm = X.mean(axis = 0)\n",
        "print(Xm)"
      ],
      "execution_count": 36,
      "outputs": [
        {
          "output_type": "stream",
          "text": [
            "[0.67563006 0.57879986 0.59663563 0.45424776 0.32403861 0.49153159\n",
            " 0.39159489 0.70458484 0.86752997 0.53630614]\n"
          ],
          "name": "stdout"
        }
      ]
    },
    {
      "cell_type": "markdown",
      "metadata": {
        "id": "xZRYp0Z93Tv7",
        "colab_type": "text"
      },
      "source": [
        "#### 15. Create, 10 by 10 multiplication table from 1 to 10"
      ]
    },
    {
      "cell_type": "code",
      "metadata": {
        "id": "AMxREVUK3Tv8",
        "colab_type": "code",
        "colab": {
          "base_uri": "https://localhost:8080/",
          "height": 1000
        },
        "outputId": "c6506352-c577-4fb3-f29f-a850256620cd"
      },
      "source": [
        "for i in range(1, 11):\n",
        "  for j in range(1, 11):\n",
        "    print(i, \"*\", j, \"=\", i*j)"
      ],
      "execution_count": 37,
      "outputs": [
        {
          "output_type": "stream",
          "text": [
            "1 * 1 = 1\n",
            "1 * 2 = 2\n",
            "1 * 3 = 3\n",
            "1 * 4 = 4\n",
            "1 * 5 = 5\n",
            "1 * 6 = 6\n",
            "1 * 7 = 7\n",
            "1 * 8 = 8\n",
            "1 * 9 = 9\n",
            "1 * 10 = 10\n",
            "2 * 1 = 2\n",
            "2 * 2 = 4\n",
            "2 * 3 = 6\n",
            "2 * 4 = 8\n",
            "2 * 5 = 10\n",
            "2 * 6 = 12\n",
            "2 * 7 = 14\n",
            "2 * 8 = 16\n",
            "2 * 9 = 18\n",
            "2 * 10 = 20\n",
            "3 * 1 = 3\n",
            "3 * 2 = 6\n",
            "3 * 3 = 9\n",
            "3 * 4 = 12\n",
            "3 * 5 = 15\n",
            "3 * 6 = 18\n",
            "3 * 7 = 21\n",
            "3 * 8 = 24\n",
            "3 * 9 = 27\n",
            "3 * 10 = 30\n",
            "4 * 1 = 4\n",
            "4 * 2 = 8\n",
            "4 * 3 = 12\n",
            "4 * 4 = 16\n",
            "4 * 5 = 20\n",
            "4 * 6 = 24\n",
            "4 * 7 = 28\n",
            "4 * 8 = 32\n",
            "4 * 9 = 36\n",
            "4 * 10 = 40\n",
            "5 * 1 = 5\n",
            "5 * 2 = 10\n",
            "5 * 3 = 15\n",
            "5 * 4 = 20\n",
            "5 * 5 = 25\n",
            "5 * 6 = 30\n",
            "5 * 7 = 35\n",
            "5 * 8 = 40\n",
            "5 * 9 = 45\n",
            "5 * 10 = 50\n",
            "6 * 1 = 6\n",
            "6 * 2 = 12\n",
            "6 * 3 = 18\n",
            "6 * 4 = 24\n",
            "6 * 5 = 30\n",
            "6 * 6 = 36\n",
            "6 * 7 = 42\n",
            "6 * 8 = 48\n",
            "6 * 9 = 54\n",
            "6 * 10 = 60\n",
            "7 * 1 = 7\n",
            "7 * 2 = 14\n",
            "7 * 3 = 21\n",
            "7 * 4 = 28\n",
            "7 * 5 = 35\n",
            "7 * 6 = 42\n",
            "7 * 7 = 49\n",
            "7 * 8 = 56\n",
            "7 * 9 = 63\n",
            "7 * 10 = 70\n",
            "8 * 1 = 8\n",
            "8 * 2 = 16\n",
            "8 * 3 = 24\n",
            "8 * 4 = 32\n",
            "8 * 5 = 40\n",
            "8 * 6 = 48\n",
            "8 * 7 = 56\n",
            "8 * 8 = 64\n",
            "8 * 9 = 72\n",
            "8 * 10 = 80\n",
            "9 * 1 = 9\n",
            "9 * 2 = 18\n",
            "9 * 3 = 27\n",
            "9 * 4 = 36\n",
            "9 * 5 = 45\n",
            "9 * 6 = 54\n",
            "9 * 7 = 63\n",
            "9 * 8 = 72\n",
            "9 * 9 = 81\n",
            "9 * 10 = 90\n",
            "10 * 1 = 10\n",
            "10 * 2 = 20\n",
            "10 * 3 = 30\n",
            "10 * 4 = 40\n",
            "10 * 5 = 50\n",
            "10 * 6 = 60\n",
            "10 * 7 = 70\n",
            "10 * 8 = 80\n",
            "10 * 9 = 90\n",
            "10 * 10 = 100\n"
          ],
          "name": "stdout"
        }
      ]
    },
    {
      "cell_type": "markdown",
      "metadata": {
        "id": "jGch2qVM3Tv-",
        "colab_type": "text"
      },
      "source": [
        "#### 16. How to get the diagonal of a dot product? \n",
        "\n",
        "A = np.random.uniform(0,1,(5,5))\n",
        "B = np.random.uniform(0,1,(5,5))"
      ]
    },
    {
      "cell_type": "code",
      "metadata": {
        "id": "P0eYkC3P3Tv_",
        "colab_type": "code",
        "colab": {
          "base_uri": "https://localhost:8080/",
          "height": 35
        },
        "outputId": "0ca13011-cd57-475d-951c-680b6535866f"
      },
      "source": [
        "A = np.random.uniform(0,1,(5,5)) \n",
        "B = np.random.uniform(0,1,(5,5))\n",
        "AB = np.dot(A, B)\n",
        "print(AB.diagonal())"
      ],
      "execution_count": 39,
      "outputs": [
        {
          "output_type": "stream",
          "text": [
            "[0.79233099 0.87662703 1.26460905 1.1545015  0.88954489]\n"
          ],
          "name": "stdout"
        }
      ]
    },
    {
      "cell_type": "markdown",
      "metadata": {
        "id": "J9-ZQhFe3TwA",
        "colab_type": "text"
      },
      "source": [
        "#### 17. Consider the vector [1, 2, 3, 4, 5], how to build a new vector with 3 consecutive zeros interleaved between each value?"
      ]
    },
    {
      "cell_type": "code",
      "metadata": {
        "id": "Oe6laqGi3TwB",
        "colab_type": "code",
        "colab": {
          "base_uri": "https://localhost:8080/",
          "height": 35
        },
        "outputId": "ea936745-f070-4869-8f3a-f5d30da2108f"
      },
      "source": [
        "v = np.array([1,2,3,4,5])\n",
        "n = 3\n",
        "vn = np.zeros(len(v) + (len(v)-1)*(n))\n",
        "vn[::n+1] = v\n",
        "print(vn)"
      ],
      "execution_count": 40,
      "outputs": [
        {
          "output_type": "stream",
          "text": [
            "[1. 0. 0. 0. 2. 0. 0. 0. 3. 0. 0. 0. 4. 0. 0. 0. 5.]\n"
          ],
          "name": "stdout"
        }
      ]
    },
    {
      "cell_type": "markdown",
      "metadata": {
        "id": "Y_AGvAQF3TwC",
        "colab_type": "text"
      },
      "source": [
        "#### 18. Consider two arrays A and B of shape (8,3) and (2,2). How to find rows of A that contain elements of each row of B regardless of the order of the elements in B?\n",
        "\n",
        "A = np.random.randint(0,5,(8,3))\n",
        "B = np.random.randint(0,5,(2,2))"
      ]
    },
    {
      "cell_type": "code",
      "metadata": {
        "id": "U1m3Fxig3TwC",
        "colab_type": "code",
        "colab": {
          "base_uri": "https://localhost:8080/",
          "height": 35
        },
        "outputId": "66389bbb-10c3-4fad-8525-6ea29322ab49"
      },
      "source": [
        "A = np.random.randint(0,5,(8,3)) \n",
        "B = np.random.randint(0,5,(2,2))\n",
        "New = (A[..., np.newaxis, np.newaxis] == B)\n",
        "r = (New.sum(axis=(1,2,3)) >= B.shape[1]).nonzero()[0]\n",
        "print(r)"
      ],
      "execution_count": 42,
      "outputs": [
        {
          "output_type": "stream",
          "text": [
            "[0 1 2 3 4 5 6 7]\n"
          ],
          "name": "stdout"
        }
      ]
    },
    {
      "cell_type": "markdown",
      "metadata": {
        "id": "lSycQGVb3TwE",
        "colab_type": "text"
      },
      "source": [
        "#### 19. How to swap two rows of an array? Generate an array from 0 to 24, and reshape it 5 by 5 and swap first two rows of the array"
      ]
    },
    {
      "cell_type": "code",
      "metadata": {
        "id": "h83zM2Jd3TwE",
        "colab_type": "code",
        "colab": {
          "base_uri": "https://localhost:8080/",
          "height": 197
        },
        "outputId": "8656f64f-a8f9-49b8-f320-a1808b25edc0"
      },
      "source": [
        "arr = np.arange(0, 25).reshape((5, 5))\n",
        "print(arr)\n",
        "arr[[0,1]] = arr[[1,0]]\n",
        "print(arr)"
      ],
      "execution_count": 46,
      "outputs": [
        {
          "output_type": "stream",
          "text": [
            "[[ 0  1  2  3  4]\n",
            " [ 5  6  7  8  9]\n",
            " [10 11 12 13 14]\n",
            " [15 16 17 18 19]\n",
            " [20 21 22 23 24]]\n",
            "[[ 5  6  7  8  9]\n",
            " [ 0  1  2  3  4]\n",
            " [10 11 12 13 14]\n",
            " [15 16 17 18 19]\n",
            " [20 21 22 23 24]]\n"
          ],
          "name": "stdout"
        }
      ]
    },
    {
      "cell_type": "markdown",
      "metadata": {
        "id": "rvdjfA_13TwG",
        "colab_type": "text"
      },
      "source": [
        "#### 20. How to find the most frequent value in an array? \n",
        "\n",
        "Z = np.random.randint(0,10,50). hint: np.bincount, np.argmax"
      ]
    },
    {
      "cell_type": "code",
      "metadata": {
        "id": "ioJNvYRC3TwG",
        "colab_type": "code",
        "colab": {
          "base_uri": "https://localhost:8080/",
          "height": 35
        },
        "outputId": "e208422e-d0b7-44bc-a5ff-2d13d3f1684d"
      },
      "source": [
        "Z = np.random.randint(0,10,50)\n",
        "print(np.bincount(Z).argmax())"
      ],
      "execution_count": 47,
      "outputs": [
        {
          "output_type": "stream",
          "text": [
            "9\n"
          ],
          "name": "stdout"
        }
      ]
    },
    {
      "cell_type": "markdown",
      "metadata": {
        "id": "LdZAqS043TwI",
        "colab_type": "text"
      },
      "source": [
        "#### 21. How to get the n largest values of an array?\n",
        "\n",
        "start with \n",
        "Z = np.arange(10000);\n",
        "np.random.shuffle(Z)\n",
        ", Hint: np.argsort"
      ]
    },
    {
      "cell_type": "code",
      "metadata": {
        "id": "ql2Nqvmp3TwI",
        "colab_type": "code",
        "colab": {
          "base_uri": "https://localhost:8080/",
          "height": 35
        },
        "outputId": "3374b6dc-4dcf-40e5-d3d7-4928e2bc6380"
      },
      "source": [
        "Z = np.arange(10000)\n",
        "np.random.shuffle(Z)\n",
        "n = 10\n",
        "print (Z[np.argsort(Z)[-n:]])"
      ],
      "execution_count": 48,
      "outputs": [
        {
          "output_type": "stream",
          "text": [
            "[9990 9991 9992 9993 9994 9995 9996 9997 9998 9999]\n"
          ],
          "name": "stdout"
        }
      ]
    },
    {
      "cell_type": "markdown",
      "metadata": {
        "id": "N5sm_Urv3TwO",
        "colab_type": "text"
      },
      "source": [
        "#### 22. Given a two dimensional array, how to extract unique rows? \n",
        "\n",
        "Hint: np.unique"
      ]
    },
    {
      "cell_type": "code",
      "metadata": {
        "id": "lh50rAqG3TwO",
        "colab_type": "code",
        "colab": {
          "base_uri": "https://localhost:8080/",
          "height": 89
        },
        "outputId": "5e7e0652-5069-459b-d88f-116dbd7cee4d"
      },
      "source": [
        "Z = np.random.randint(0,2,(6,3))\n",
        "T = np.ascontiguousarray(Z).view(np.dtype((np.void, Z.dtype.itemsize * Z.shape[1])))\n",
        "_, idx = np.unique(T, return_index=True)\n",
        "print(Z[idx])"
      ],
      "execution_count": 50,
      "outputs": [
        {
          "output_type": "stream",
          "text": [
            "[[0 0 0]\n",
            " [0 0 1]\n",
            " [0 1 0]\n",
            " [0 1 1]]\n"
          ],
          "name": "stdout"
        }
      ]
    },
    {
      "cell_type": "markdown",
      "metadata": {
        "id": "y307lggn3TwQ",
        "colab_type": "text"
      },
      "source": [
        "#### 23. How to compute averages using a sliding window over an array? \n",
        "\n",
        "make a function with two arguments, arry and size of the sliding window, def moving_avg(arr, n)\n"
      ]
    },
    {
      "cell_type": "code",
      "metadata": {
        "id": "KK8x5MX23TwQ",
        "colab_type": "code",
        "colab": {
          "base_uri": "https://localhost:8080/",
          "height": 197
        },
        "outputId": "694903fd-1991-4e79-89f1-67059401098e"
      },
      "source": [
        "def moving_avg(arr, n):\n",
        "  for i in range(len(arr)-n+1):\n",
        "    sum_win = 0\n",
        "    for j in range(n):\n",
        "      sum_win += arr[i+j]\n",
        "    avg_win = sum_win/n\n",
        "    print(\"average of window num\", i, \"is\", avg_win)\n",
        "\n",
        "ar = [2, 5, 2, 1, 3, 5, 8, 6, 23, 1]\n",
        "n = 3\n",
        "\n",
        "print(\"array :\", ar)\n",
        "print(\"size of the window :\", n)\n",
        "moving_avg(ar, n)"
      ],
      "execution_count": 60,
      "outputs": [
        {
          "output_type": "stream",
          "text": [
            "array : [2, 5, 2, 1, 3, 5, 8, 6, 23, 1]\n",
            "size of the window : 3\n",
            "average of window num 0 is 3.0\n",
            "average of window num 1 is 2.6666666666666665\n",
            "average of window num 2 is 2.0\n",
            "average of window num 3 is 3.0\n",
            "average of window num 4 is 5.333333333333333\n",
            "average of window num 5 is 6.333333333333333\n",
            "average of window num 6 is 12.333333333333334\n",
            "average of window num 7 is 10.0\n"
          ],
          "name": "stdout"
        }
      ]
    },
    {
      "cell_type": "markdown",
      "metadata": {
        "id": "xlgpq5HK3TwS",
        "colab_type": "text"
      },
      "source": [
        "#### 24. Find the indices of elements from 4 by 4 random matrix (0-1) which are larger than 0.5\n",
        "\n",
        "Print a list of tuples indicating the index for row and column\n"
      ]
    },
    {
      "cell_type": "code",
      "metadata": {
        "id": "7IZ_8MCb3TwS",
        "colab_type": "code",
        "colab": {
          "base_uri": "https://localhost:8080/",
          "height": 161
        },
        "outputId": "11575dfa-6e30-488f-b31e-af1bfa4c0942"
      },
      "source": [
        "arr = np.random.random((4,4))\n",
        "for i in range(4):\n",
        "  for j in range(4):\n",
        "    if arr[i, j] > 0.5:\n",
        "      print(i, j)"
      ],
      "execution_count": 53,
      "outputs": [
        {
          "output_type": "stream",
          "text": [
            "0 0\n",
            "0 1\n",
            "0 3\n",
            "1 0\n",
            "1 3\n",
            "2 0\n",
            "2 2\n",
            "3 0\n"
          ],
          "name": "stdout"
        }
      ]
    },
    {
      "cell_type": "markdown",
      "metadata": {
        "id": "nRoYOfUv3TwV",
        "colab_type": "text"
      },
      "source": [
        "#### 25. Write a function returning distance between two points"
      ]
    },
    {
      "cell_type": "markdown",
      "metadata": {
        "id": "ul7W9gRY3TwV",
        "colab_type": "raw"
      },
      "source": [
        "Test the function to check whether function is working correctly\n",
        "Hint: There are two arguments of function indicating two points"
      ]
    },
    {
      "cell_type": "code",
      "metadata": {
        "id": "ipiIHIgI3TwV",
        "colab_type": "code",
        "colab": {
          "base_uri": "https://localhost:8080/",
          "height": 35
        },
        "outputId": "7e03e644-a71a-4125-a24a-e49d82254b5a"
      },
      "source": [
        "def distance(a, b):\n",
        "  sum = 0\n",
        "  for i in range(len(a)):\n",
        "    sum += (a[i]-b[i])**2\n",
        "  dis = np.sqrt(sum)\n",
        "  return dis\n",
        "\n",
        "A = [1, 2]\n",
        "B = [3, 4]\n",
        "print(distance(A, B))"
      ],
      "execution_count": 56,
      "outputs": [
        {
          "output_type": "stream",
          "text": [
            "2.8284271247461903\n"
          ],
          "name": "stdout"
        }
      ]
    }
  ]
}